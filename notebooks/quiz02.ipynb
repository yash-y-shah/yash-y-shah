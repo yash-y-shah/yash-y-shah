{
  "cells": [
    {
      "cell_type": "markdown",
      "metadata": {
        "id": "50al9hC6Yx1F"
      },
      "source": [
        "# Quiz 2\n",
        "\n",
        "BEFORE YOU START THIS QUIZ:\n",
        "\n",
        "1. Click on \"Copy to Drive\" to make a copy of the quiz,\n",
        "\n",
        "2. Click on \"Share\",\n",
        "    \n",
        "3. Click on \"Change\" and select \"Anyone with this link can edit\"\n",
        "    \n",
        "4. Click \"Copy link\" and\n",
        "\n",
        "5. Paste the link into [this Canvas assignment](https://canvas.olin.edu/courses/313/assignments/4929).\n",
        "\n",
        "This quiz is open notes, open internet. The only thing you can't do is ask for help.\n",
        "\n",
        "Copyright 2021 Allen Downey, [MIT License](http://opensource.org/licenses/MIT)"
      ]
    },
    {
      "cell_type": "markdown",
      "metadata": {
        "id": "aiMT36oYYx1G"
      },
      "source": [
        "## Question 1\n",
        "\n",
        "Suppose you have a function that takes a lot of options; some are required and some are optional.\n",
        "\n",
        "Before you run the function, you might want to check that:\n",
        "\n",
        "1. All required options are provided, and\n",
        "\n",
        "2. No illegal options are provided.\n",
        "\n",
        "For example, suppose this dictionary contains the provided options and their values:"
      ]
    },
    {
      "cell_type": "code",
      "execution_count": 1,
      "metadata": {
        "id": "2gkQ5GhCYx1H",
        "outputId": "7d56b0e0-e466-4227-b4dc-239dda151900",
        "colab": {
          "base_uri": "https://localhost:8080/"
        }
      },
      "outputs": [
        {
          "output_type": "execute_result",
          "data": {
            "text/plain": [
              "{'a': 1, 'b': 2}"
            ]
          },
          "metadata": {},
          "execution_count": 1
        }
      ],
      "source": [
        "options = dict(a=1, b=2)\n",
        "options"
      ]
    },
    {
      "cell_type": "markdown",
      "metadata": {
        "id": "uj06fyhXYx1H"
      },
      "source": [
        "And suppose that only `a` is required."
      ]
    },
    {
      "cell_type": "code",
      "execution_count": 2,
      "metadata": {
        "id": "kxOyEsPHYx1H"
      },
      "outputs": [],
      "source": [
        "required = ['a']"
      ]
    },
    {
      "cell_type": "markdown",
      "metadata": {
        "id": "dFT11vGSYx1I"
      },
      "source": [
        "And the optional arguments are `b`, and `c`:"
      ]
    },
    {
      "cell_type": "code",
      "execution_count": 3,
      "metadata": {
        "id": "Oxs4lPPvYx1I"
      },
      "outputs": [],
      "source": [
        "optional = ['b', 'c']"
      ]
    },
    {
      "cell_type": "markdown",
      "metadata": {
        "id": "kZUE0IuwYx1I"
      },
      "source": [
        "An option is legal if it is required or optional. All other options are illegal.\n",
        "\n",
        "Write a function called `check_options` that takes a dictionary of options and their values, a sequence of required options, and a sequence of options that are legal but not required.\n",
        "\n",
        "1. It should check that all required options are provided and, if not, print an error message that lists the ones that are missing.\n",
        "\n",
        "2. It should check that all provided options are legal and, if not, print an error message that lists the ones that are illegal.\n",
        "\n",
        "For full credit, you must use set operations when they are appropriate rather than writing `for` loops."
      ]
    },
    {
      "cell_type": "code",
      "execution_count": 4,
      "metadata": {
        "id": "JYPZueayYx1I"
      },
      "outputs": [],
      "source": [
        "def check_options (options, required, optional):\n",
        "  for option in required:\n",
        "    if option not in options.keys():\n",
        "      print(\"Option \" + option + \" is missing\")\n",
        "  for option in options.keys():\n",
        "    if option not in required and option not in optional:\n",
        "      print(\"Option \" + option + \" is illegal\")\n"
      ]
    },
    {
      "cell_type": "markdown",
      "metadata": {
        "id": "XKQ0Oju-Yx1I"
      },
      "source": [
        "The following test should display nothing because the dictionary contains all required options and no illegal ones."
      ]
    },
    {
      "cell_type": "code",
      "execution_count": 5,
      "metadata": {
        "id": "JLXTwmeTYx1I"
      },
      "outputs": [],
      "source": [
        "options = dict(a=1, b=2)\n",
        "check_options(options, required, optional)"
      ]
    },
    {
      "cell_type": "markdown",
      "metadata": {
        "id": "dqBU9w-zYx1I"
      },
      "source": [
        "The following test should print an error message because the dictionary is missing a required option."
      ]
    },
    {
      "cell_type": "code",
      "execution_count": 6,
      "metadata": {
        "id": "gqe9UnOFYx1I",
        "outputId": "c4ac0749-9744-4483-de75-6383cd3cd826",
        "colab": {
          "base_uri": "https://localhost:8080/"
        }
      },
      "outputs": [
        {
          "output_type": "stream",
          "name": "stdout",
          "text": [
            "Option a is missing\n"
          ]
        }
      ],
      "source": [
        "options = dict(b=2, c=3)\n",
        "check_options(options, required, optional)"
      ]
    },
    {
      "cell_type": "markdown",
      "metadata": {
        "id": "2EN9-Wc4Yx1I"
      },
      "source": [
        "The following test should display an error message because the dictionary contains an illegal option."
      ]
    },
    {
      "cell_type": "code",
      "execution_count": 7,
      "metadata": {
        "id": "_cpztuJWYx1I",
        "outputId": "4588ae5c-e632-454f-8c5e-588622f7a8eb",
        "colab": {
          "base_uri": "https://localhost:8080/"
        }
      },
      "outputs": [
        {
          "output_type": "stream",
          "name": "stdout",
          "text": [
            "Option d is illegal\n"
          ]
        }
      ],
      "source": [
        "options = dict(a=1, b=2, d=4)\n",
        "check_options(options, required, optional)"
      ]
    },
    {
      "cell_type": "markdown",
      "metadata": {
        "id": "VoAhyLruYx1I"
      },
      "source": [
        "## Question 2\n",
        "\n",
        "The set method `symmetric_difference` operates on two sets and computes the set of elements that appear in either set but not both."
      ]
    },
    {
      "cell_type": "code",
      "execution_count": 9,
      "metadata": {
        "id": "fuZGX024Yx1I",
        "outputId": "3998ac44-00d3-438f-c09e-ed8dbb09e48e",
        "colab": {
          "base_uri": "https://localhost:8080/"
        }
      },
      "outputs": [
        {
          "output_type": "execute_result",
          "data": {
            "text/plain": [
              "{1, 3}"
            ]
          },
          "metadata": {},
          "execution_count": 9
        }
      ],
      "source": [
        "s1 = {1, 2}\n",
        "s2 = {2, 3}\n",
        "\n",
        "s1.symmetric_difference(s2)"
      ]
    },
    {
      "cell_type": "markdown",
      "metadata": {
        "id": "CxkZ8mHYYx1I"
      },
      "source": [
        "The symmetric difference operation is also defined for more that two sets. It computes **the set of elements that appear in an odd number of sets**.\n",
        "\n",
        "The `symmetric_difference` method can only handle two sets (unlike some of the other set methods), but you can chain the method like this:"
      ]
    },
    {
      "cell_type": "code",
      "execution_count": 10,
      "metadata": {
        "id": "pBtwfOgcYx1I",
        "outputId": "bad0dd52-4ad1-4e01-dff7-42aee084d560",
        "colab": {
          "base_uri": "https://localhost:8080/"
        }
      },
      "outputs": [
        {
          "output_type": "execute_result",
          "data": {
            "text/plain": [
              "{1, 4}"
            ]
          },
          "metadata": {},
          "execution_count": 10
        }
      ],
      "source": [
        "s3 = {3, 4}\n",
        "s1.symmetric_difference(s2).symmetric_difference(s3)"
      ]
    },
    {
      "cell_type": "markdown",
      "metadata": {
        "id": "R5wxzUz3Yx1J"
      },
      "source": [
        "However, for the sake of the exercise, let's suppose we don't have the set method `symmetric_difference` the equivalent `^` operator.\n",
        "\n",
        "Write a function that takes a list of sets as a parameter, computes their symmetric difference, and returns the result as a `set`."
      ]
    },
    {
      "cell_type": "code",
      "execution_count": 21,
      "metadata": {
        "id": "gsM7ZbGoYx1J"
      },
      "outputs": [],
      "source": [
        "def symmetric_difference(sets):\n",
        "  result = set()\n",
        "  for i in range(0, len(sets)):\n",
        "    result = result^sets[i]\n",
        "  return result"
      ]
    },
    {
      "cell_type": "markdown",
      "metadata": {
        "id": "vsiOw_YiYx1J"
      },
      "source": [
        "Use the following tests to check your function."
      ]
    },
    {
      "cell_type": "code",
      "execution_count": 22,
      "metadata": {
        "id": "Uabf81p2Yx1J",
        "outputId": "2ef72b73-3aef-48eb-dac3-8ba7b6056fca",
        "colab": {
          "base_uri": "https://localhost:8080/"
        }
      },
      "outputs": [
        {
          "output_type": "execute_result",
          "data": {
            "text/plain": [
              "{1, 3}"
            ]
          },
          "metadata": {},
          "execution_count": 22
        }
      ],
      "source": [
        "symmetric_difference([s1, s2])    # should be {1, 3}"
      ]
    },
    {
      "cell_type": "code",
      "execution_count": 23,
      "metadata": {
        "id": "0PdWWcPKYx1J",
        "outputId": "e0e2278d-b21f-4462-9df4-b1f44ad42567",
        "colab": {
          "base_uri": "https://localhost:8080/"
        }
      },
      "outputs": [
        {
          "output_type": "execute_result",
          "data": {
            "text/plain": [
              "{2, 4}"
            ]
          },
          "metadata": {},
          "execution_count": 23
        }
      ],
      "source": [
        "symmetric_difference([s2, s3])     # should be {2, 4}"
      ]
    },
    {
      "cell_type": "code",
      "execution_count": 24,
      "metadata": {
        "id": "6-zwDjLkYx1J",
        "outputId": "40682a98-1f6b-4230-d8d7-619e317dfff3",
        "colab": {
          "base_uri": "https://localhost:8080/"
        }
      },
      "outputs": [
        {
          "output_type": "execute_result",
          "data": {
            "text/plain": [
              "{1, 4}"
            ]
          },
          "metadata": {},
          "execution_count": 24
        }
      ],
      "source": [
        "symmetric_difference([s1, s2, s3]) # should be {1, 4}"
      ]
    },
    {
      "cell_type": "code",
      "execution_count": null,
      "metadata": {
        "id": "4lqY41F7Yx1J"
      },
      "outputs": [],
      "source": []
    },
    {
      "cell_type": "code",
      "execution_count": null,
      "metadata": {
        "id": "Pf2I2TgYYx1J"
      },
      "outputs": [],
      "source": []
    },
    {
      "cell_type": "code",
      "execution_count": null,
      "metadata": {
        "id": "CxNwYtZeYx1J"
      },
      "outputs": [],
      "source": []
    },
    {
      "cell_type": "code",
      "execution_count": null,
      "metadata": {
        "id": "b2eDOs8CYx1J"
      },
      "outputs": [],
      "source": []
    },
    {
      "cell_type": "code",
      "execution_count": null,
      "metadata": {
        "id": "CKHowWlBYx1J"
      },
      "outputs": [],
      "source": []
    },
    {
      "cell_type": "markdown",
      "metadata": {
        "id": "_9_qXtIBYx1J"
      },
      "source": [
        "## Question 3\n",
        "\n",
        "Write a generator function called `evens_and_odds` that takes a list of integers and yields:\n",
        "\n",
        "* All of the elements of the list that are even, followed by\n",
        "\n",
        "* All of the elements of the list that are odd.\n",
        "\n",
        "For example, if the list is `[1, 2, 4, 7]`, the sequence of values generated should be `2, 4, 1, 7`."
      ]
    },
    {
      "cell_type": "code",
      "execution_count": 26,
      "metadata": {
        "id": "1QKFAomgYx1J"
      },
      "outputs": [],
      "source": [
        "def evens_and_odds (integer_list):\n",
        "  for integer in integer_list:\n",
        "    if integer%2 == 0:\n",
        "      yield integer\n",
        "  for integer in integer_list:\n",
        "    if integer%2 == 1:\n",
        "      yield integer"
      ]
    },
    {
      "cell_type": "markdown",
      "metadata": {
        "id": "Su1JLIV2Yx1K"
      },
      "source": [
        "Use this example to test your function."
      ]
    },
    {
      "cell_type": "code",
      "execution_count": 27,
      "metadata": {
        "id": "tVlf6GDeYx1K",
        "outputId": "93fde360-4245-4616-9f40-2f9509e04063",
        "colab": {
          "base_uri": "https://localhost:8080/"
        }
      },
      "outputs": [
        {
          "output_type": "stream",
          "name": "stdout",
          "text": [
            "2\n",
            "4\n",
            "1\n",
            "7\n"
          ]
        }
      ],
      "source": [
        "t = [1, 2, 4, 7]\n",
        "\n",
        "for x in evens_and_odds(t):\n",
        "    print(x)"
      ]
    },
    {
      "cell_type": "markdown",
      "metadata": {
        "id": "IO1qRXjMYx1K"
      },
      "source": [
        "As a challenge, JUST FOR FUN, write a version of this function that works if the argument is an iterator that you can only iterate once."
      ]
    },
    {
      "cell_type": "code",
      "execution_count": null,
      "metadata": {
        "id": "Igf34KLlYx1K"
      },
      "outputs": [],
      "source": []
    },
    {
      "cell_type": "code",
      "execution_count": null,
      "metadata": {
        "id": "1d2Lh7IjYx1K"
      },
      "outputs": [],
      "source": []
    },
    {
      "cell_type": "markdown",
      "metadata": {
        "id": "j69h0cdpYx1K"
      },
      "source": [
        "## Question 4\n",
        "\n",
        "The following string contains the lyrics of a [well-known song](https://youtu.be/dQw4w9WgXcQ?t=43)."
      ]
    },
    {
      "cell_type": "code",
      "execution_count": 28,
      "metadata": {
        "id": "B4T1sutfYx1K"
      },
      "outputs": [],
      "source": [
        "lyrics = \"\"\"\n",
        "Never gonna give you up\n",
        "Never gonna let you down\n",
        "Never gonna run around and desert you\n",
        "Never gonna make you cry\n",
        "Never gonna say goodbye\n",
        "Never gonna tell a lie and hurt you\n",
        "\"\"\""
      ]
    },
    {
      "cell_type": "markdown",
      "metadata": {
        "id": "F2a4mgTvYx1K"
      },
      "source": [
        "The following generator function yields the words in `lyrics` one at a time."
      ]
    },
    {
      "cell_type": "code",
      "execution_count": 29,
      "metadata": {
        "id": "ASSeg42EYx1K"
      },
      "outputs": [],
      "source": [
        "def generate_lyrics(lyrics):\n",
        "    for word in lyrics.split():\n",
        "        yield word"
      ]
    },
    {
      "cell_type": "markdown",
      "metadata": {
        "id": "9fzR2-N-Yx1K"
      },
      "source": [
        "Write a few lines of code that use `generate_lyrics` to iterate through the words **only once** and build a dictionary that maps from each word to the set of words that follow it.\n",
        "\n",
        "For example, the first two entries in the dictionary should be\n",
        "\n",
        "```\n",
        "{'Never': {'gonna'},\n",
        " 'gonna': {'give', 'let', 'make', 'run', 'say', 'tell'},\n",
        " ...\n",
        "```\n",
        "\n",
        "because in `lyrics`, the word \"Never\" is always followed by \"gonna\", and the word \"gonna\" is followed by six different words."
      ]
    },
    {
      "cell_type": "code",
      "execution_count": 41,
      "metadata": {
        "id": "wl5Z4UsuYx1L"
      },
      "outputs": [],
      "source": [
        "key = next(generate_lyrics(lyrics))\n",
        "map_dict = {}\n",
        "for word in generate_lyrics(lyrics):\n",
        "  if key not in map_dict: map_dict[key] = {word}\n",
        "  else: map_dict[key].add(word)\n",
        "  key = word"
      ]
    },
    {
      "cell_type": "code",
      "execution_count": 42,
      "metadata": {
        "id": "AxaMZAjZYx1L",
        "outputId": "76c517d7-dc8c-4805-ef33-0347884af7ed",
        "colab": {
          "base_uri": "https://localhost:8080/"
        }
      },
      "outputs": [
        {
          "output_type": "execute_result",
          "data": {
            "text/plain": [
              "{'Never': {'Never', 'gonna'},\n",
              " 'gonna': {'give', 'let', 'make', 'run', 'say', 'tell'},\n",
              " 'give': {'you'},\n",
              " 'you': {'Never', 'cry', 'down', 'up'},\n",
              " 'up': {'Never'},\n",
              " 'let': {'you'},\n",
              " 'down': {'Never'},\n",
              " 'run': {'around'},\n",
              " 'around': {'and'},\n",
              " 'and': {'desert', 'hurt'},\n",
              " 'desert': {'you'},\n",
              " 'make': {'you'},\n",
              " 'cry': {'Never'},\n",
              " 'say': {'goodbye'},\n",
              " 'goodbye': {'Never'},\n",
              " 'tell': {'a'},\n",
              " 'a': {'lie'},\n",
              " 'lie': {'and'},\n",
              " 'hurt': {'you'}}"
            ]
          },
          "metadata": {},
          "execution_count": 42
        }
      ],
      "source": [
        "map_dict"
      ]
    },
    {
      "cell_type": "code",
      "execution_count": null,
      "metadata": {
        "id": "3qkWwKi_Yx1L"
      },
      "outputs": [],
      "source": []
    },
    {
      "cell_type": "code",
      "execution_count": null,
      "metadata": {
        "id": "sAhtZhRHYx1L"
      },
      "outputs": [],
      "source": []
    }
  ],
  "metadata": {
    "kernelspec": {
      "display_name": "Python 3",
      "language": "python",
      "name": "python3"
    },
    "language_info": {
      "codemirror_mode": {
        "name": "ipython",
        "version": 3
      },
      "file_extension": ".py",
      "mimetype": "text/x-python",
      "name": "python",
      "nbconvert_exporter": "python",
      "pygments_lexer": "ipython3",
      "version": "3.9.4"
    },
    "colab": {
      "provenance": []
    }
  },
  "nbformat": 4,
  "nbformat_minor": 0
}