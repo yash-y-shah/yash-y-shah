{
  "cells": [
    {
      "cell_type": "markdown",
      "id": "af0fce85",
      "metadata": {
        "id": "af0fce85"
      },
      "source": [
        "# Recursion"
      ]
    },
    {
      "cell_type": "markdown",
      "id": "c91bcf8f",
      "metadata": {
        "id": "c91bcf8f"
      },
      "source": [
        "[Click here to run this chapter on Colab](https://colab.research.google.com/github/AllenDowney/DSIRP/blob/main/notebooks/recursion.ipynb)"
      ]
    },
    {
      "cell_type": "markdown",
      "id": "3c45976d",
      "metadata": {
        "id": "3c45976d"
      },
      "source": [
        "## Example 1\n",
        "\n",
        "Here's an example of recursion from [this section of Think Python](https://greenteapress.com/thinkpython2/html/thinkpython2006.html#sec62)."
      ]
    },
    {
      "cell_type": "code",
      "execution_count": 2,
      "id": "680f0927",
      "metadata": {
        "tags": [],
        "id": "680f0927"
      },
      "outputs": [],
      "source": [
        "def countdown(n):\n",
        "    if n == 0:\n",
        "        print('Blastoff!')\n",
        "    else:\n",
        "        print(n)\n",
        "        countdown(n-1)"
      ]
    },
    {
      "cell_type": "code",
      "execution_count": null,
      "id": "ca1913c3",
      "metadata": {
        "tags": [],
        "id": "ca1913c3"
      },
      "outputs": [],
      "source": [
        "countdown(3)"
      ]
    },
    {
      "cell_type": "markdown",
      "id": "b8122d2f",
      "metadata": {
        "id": "b8122d2f"
      },
      "source": [
        "To understand recursion, it's important to have a good mental model of what happens when you run a function:\n",
        "\n",
        "1. Python interprets the arguments.\n",
        "\n",
        "2. It creates a stack frame, which will contain the parameters and local variables.\n",
        "\n",
        "3. Next it assigns the values of the arguments to the parameters.\n",
        "\n",
        "4. Python runs the body of the function.\n",
        "\n",
        "5. Then it recycles the stack frame.\n",
        "\n",
        "The runtime stack contains the stack frames of currently-running functions."
      ]
    },
    {
      "cell_type": "markdown",
      "id": "13be8c33",
      "metadata": {
        "id": "13be8c33"
      },
      "source": [
        "Here's a stack diagram that shows what happens when this `countdown` runs.\n",
        "\n",
        "<img src=\"https://greenteapress.com/thinkpython2/html/thinkpython2005.png\">"
      ]
    },
    {
      "cell_type": "markdown",
      "id": "d3656030",
      "metadata": {
        "id": "d3656030"
      },
      "source": [
        "**Exercise:** What happens if you run countdown with a negative number?  [See here for more info]()"
      ]
    },
    {
      "cell_type": "code",
      "execution_count": null,
      "id": "926b7e09",
      "metadata": {
        "id": "926b7e09"
      },
      "outputs": [],
      "source": []
    },
    {
      "cell_type": "markdown",
      "id": "65453461",
      "metadata": {
        "id": "65453461"
      },
      "source": [
        "## Example 2\n",
        "\n",
        "Here's an example of recursion with a function that returns a value, from [this section of Think Python](https://greenteapress.com/thinkpython2/html/thinkpython2007.html#sec74)."
      ]
    },
    {
      "cell_type": "code",
      "execution_count": 1,
      "id": "05f2cbae",
      "metadata": {
        "tags": [],
        "id": "05f2cbae"
      },
      "outputs": [],
      "source": [
        "def factorial(n):\n",
        "    if n == 0:\n",
        "        print(n, 1)\n",
        "        return 1\n",
        "    else:\n",
        "        recurse = factorial(n-1)\n",
        "        result = n * recurse\n",
        "        print(n, recurse, result)\n",
        "        return result"
      ]
    },
    {
      "cell_type": "code",
      "execution_count": null,
      "id": "4b28a55a",
      "metadata": {
        "tags": [],
        "id": "4b28a55a"
      },
      "outputs": [],
      "source": [
        "factorial(3)"
      ]
    },
    {
      "cell_type": "markdown",
      "id": "88e729ef",
      "metadata": {
        "id": "88e729ef"
      },
      "source": [
        "Here's the stack frame."
      ]
    },
    {
      "cell_type": "markdown",
      "id": "05dab401",
      "metadata": {
        "id": "05dab401"
      },
      "source": [
        "<img src=\"https://greenteapress.com/thinkpython2/html/thinkpython2007.png\">"
      ]
    },
    {
      "cell_type": "markdown",
      "id": "5501bd21",
      "metadata": {
        "id": "5501bd21"
      },
      "source": [
        "**Exercise:** Suppose you want to raise a number, `x`, to an integer power, `k`. An efficient way to do that is:\n",
        "\n",
        "* If `k` is even, raise `x` to `k/2` and square it.\n",
        "\n",
        "* If `k` is odd, raise `x` to `(k-1)/2`, square it, and multiply by `x` one more time.\n",
        "\n",
        "Write a recursive function that implements this algorithm."
      ]
    },
    {
      "cell_type": "code",
      "execution_count": null,
      "id": "c4efae39",
      "metadata": {
        "id": "c4efae39"
      },
      "outputs": [],
      "source": []
    },
    {
      "cell_type": "code",
      "execution_count": null,
      "id": "305c176f",
      "metadata": {
        "id": "305c176f"
      },
      "outputs": [],
      "source": []
    },
    {
      "cell_type": "code",
      "execution_count": null,
      "id": "1d537011",
      "metadata": {
        "id": "1d537011"
      },
      "outputs": [],
      "source": []
    },
    {
      "cell_type": "markdown",
      "id": "52f8ff4a",
      "metadata": {
        "id": "52f8ff4a"
      },
      "source": [
        "What is the order of growth of this algorithm?\n",
        "To keep it simple, suppose `k` is a power of two.\n",
        "How many times do we have to divide `k` by two before we get to 1?\n",
        "\n",
        "Thinking about it in reverse, starting with 1, how many times do we have to double 1 before we get to `k`? In math notation, the question is\n",
        "\n",
        "$$2^y = k$$\n",
        "\n",
        "where `y` is the unknown number of steps. Taking the log of both sides, base 2:\n",
        "\n",
        "$$y = log_2 k$$\n",
        "\n",
        "In terms of order of growth, this algorithm is in `O(log k)`. We don't have to specify the base of the logarithm, because a log in one base is a constant multiple of a log in any other base."
      ]
    },
    {
      "cell_type": "markdown",
      "id": "2b004c03",
      "metadata": {
        "id": "2b004c03"
      },
      "source": [
        "## Example 3\n",
        "\n",
        "Here's another example of recursion from [this section of Think Python](https://greenteapress.com/thinkpython2/html/thinkpython2007.html#sec76)."
      ]
    },
    {
      "cell_type": "code",
      "execution_count": 3,
      "id": "6e0b79eb",
      "metadata": {
        "tags": [],
        "id": "6e0b79eb"
      },
      "outputs": [],
      "source": [
        "def fibonacci(n):\n",
        "    print(n)\n",
        "    if n == 0:\n",
        "        return 0\n",
        "    elif  n == 1:\n",
        "        return 1\n",
        "    else:\n",
        "        return fibonacci(n-1) + fibonacci(n-2)"
      ]
    },
    {
      "cell_type": "code",
      "execution_count": null,
      "id": "d049364c",
      "metadata": {
        "tags": [],
        "id": "d049364c"
      },
      "outputs": [],
      "source": [
        "fibonacci(4)"
      ]
    },
    {
      "cell_type": "markdown",
      "id": "029884a3",
      "metadata": {
        "id": "029884a3"
      },
      "source": [
        "Here's a stack graph that shows all stack frames created during this function call.\n",
        "\n",
        "Note that these frames are not all on the stack at the same time."
      ]
    },
    {
      "cell_type": "markdown",
      "id": "fbb61c50",
      "metadata": {
        "id": "fbb61c50"
      },
      "source": [
        "<img src=\"https://greenteapress.com/thinkpython2/html/thinkpython2017.png\">"
      ]
    },
    {
      "cell_type": "markdown",
      "id": "365ece74",
      "metadata": {
        "id": "365ece74"
      },
      "source": [
        "Here's the [section from Think Python](https://greenteapress.com/thinkpython2/html/thinkpython2012.html#sec135) that shows how we can make fibonacci faster by \"memoizing\" it. That's not a typo; the word is really [memoize](https://en.wikipedia.org/wiki/Memoization)."
      ]
    },
    {
      "cell_type": "code",
      "execution_count": null,
      "id": "200c66d3",
      "metadata": {
        "tags": [],
        "id": "200c66d3"
      },
      "outputs": [],
      "source": [
        "known = {0:0, 1:1}\n",
        "\n",
        "def fibonacci_memo(n):\n",
        "    if n in known:\n",
        "        return known[n]\n",
        "\n",
        "    print(n)\n",
        "    res = fibonacci_memo(n-1) + fibonacci_memo(n-2)\n",
        "    known[n] = res\n",
        "    return res"
      ]
    },
    {
      "cell_type": "code",
      "execution_count": null,
      "id": "da2c92b5",
      "metadata": {
        "tags": [],
        "id": "da2c92b5"
      },
      "outputs": [],
      "source": [
        "fibonacci_memo(4)"
      ]
    },
    {
      "cell_type": "markdown",
      "id": "af40054a",
      "metadata": {
        "id": "af40054a"
      },
      "source": [
        "**Exercise:** The [Ackermann function](http://en.wikipedia.org/wiki/Ackermann_function), $A(m, n)$, is defined:\n",
        "\n",
        "$$\n",
        "A(m, n) = \\begin{cases}\n",
        "              n+1 & \\mbox{if } m = 0 \\\\\n",
        "        A(m-1, 1) & \\mbox{if } m > 0 \\mbox{ and } n = 0 \\\\\n",
        "A(m-1, A(m, n-1)) & \\mbox{if } m > 0 \\mbox{ and } n > 0.\n",
        "\\end{cases}\n",
        "$$\n",
        "\n",
        "Write a function named `ackermann` that evaluates the Ackermann function.\n",
        "Use your function to evaluate `ackermann(3, 4)`, which should be 125.\n",
        "\n",
        "What happens for larger values of `m` and `n`?\n",
        "\n",
        "If you memoize it, can you evaluate the function with bigger values?"
      ]
    },
    {
      "cell_type": "code",
      "execution_count": null,
      "id": "cb5278e3",
      "metadata": {
        "id": "cb5278e3"
      },
      "outputs": [],
      "source": []
    },
    {
      "cell_type": "code",
      "execution_count": null,
      "id": "f9b3e242",
      "metadata": {
        "id": "f9b3e242"
      },
      "outputs": [],
      "source": []
    },
    {
      "cell_type": "code",
      "execution_count": null,
      "id": "55a561a7",
      "metadata": {
        "id": "55a561a7"
      },
      "outputs": [],
      "source": []
    },
    {
      "cell_type": "code",
      "execution_count": null,
      "id": "a38fbc58",
      "metadata": {
        "id": "a38fbc58"
      },
      "outputs": [],
      "source": []
    },
    {
      "cell_type": "markdown",
      "id": "fd5c67a1",
      "metadata": {
        "id": "fd5c67a1"
      },
      "source": [
        "## String functions\n",
        "\n",
        "Many things we do iteratively can be expressed recursively as well."
      ]
    },
    {
      "cell_type": "code",
      "execution_count": 4,
      "id": "ceea0cb3",
      "metadata": {
        "tags": [],
        "id": "ceea0cb3"
      },
      "outputs": [],
      "source": [
        "def reverse(s):\n",
        "    if len(s) < 2:\n",
        "        return s\n",
        "\n",
        "    first, rest = s[0], s[1:]\n",
        "    return reverse(rest) + first"
      ]
    },
    {
      "cell_type": "code",
      "execution_count": null,
      "id": "7f033242",
      "metadata": {
        "tags": [],
        "id": "7f033242"
      },
      "outputs": [],
      "source": [
        "reverse('reverse')"
      ]
    },
    {
      "cell_type": "markdown",
      "id": "2b69c809",
      "metadata": {
        "id": "2b69c809"
      },
      "source": [
        "For sequences and mapping types, there's usually no advantage of the recursive version. But for trees and graphs, a recursive implementation can be clearer, more concise, and more demonstrably correct."
      ]
    },
    {
      "cell_type": "markdown",
      "id": "39577761",
      "metadata": {
        "id": "39577761"
      },
      "source": [
        "**Exercise:** Here's an exercise from, of all places, [StackOverflow](https://stackoverflow.com/questions/28977737/writing-a-recursive-string-function):\n",
        "\n",
        "> Write a recursive, string-valued function, `replace`, that accepts a string and returns a new string consisting of the original string with each blank replaced with an asterisk (*)\n",
        ">\n",
        "> Replacing the blanks in a string involves:\n",
        ">\n",
        "> 1. Nothing if the string is empty\n",
        ">\n",
        "> 2. Otherwise: If the first character is not a blank, simply concatenate it with the result of replacing the rest of the string\n",
        ">\n",
        "> 3. If the first character IS a blank, concatenate an * with the result of replacing the rest of the string\n"
      ]
    },
    {
      "cell_type": "code",
      "execution_count": null,
      "id": "cdfe44c6",
      "metadata": {
        "id": "cdfe44c6"
      },
      "outputs": [],
      "source": []
    },
    {
      "cell_type": "code",
      "execution_count": null,
      "id": "f8e5fdbe",
      "metadata": {
        "id": "f8e5fdbe"
      },
      "outputs": [],
      "source": []
    },
    {
      "cell_type": "markdown",
      "id": "97ece24e",
      "metadata": {
        "id": "97ece24e"
      },
      "source": [
        "## Exercises"
      ]
    },
    {
      "cell_type": "markdown",
      "id": "8a0380a7",
      "metadata": {
        "id": "8a0380a7"
      },
      "source": [
        "This one is from [Structure and Interpretation of Computer Programs](https://mitpress.mit.edu/sites/default/files/sicp/index.html):\n",
        "\n",
        "> The greatest common divisor (GCD) of two integers `a` and `b` is defined to be the largest integer that divides both `a` and `b` with no remainder. For example, the GCD of 16 and 28 is 4. [...] One way to find the GCD of two integers is to factor them and search for common factors, but there is a [famous algorithm](https://en.wikipedia.org/wiki/Euclidean_algorithm) that is much more efficient.\n",
        ">\n",
        "> The idea of the algorithm is based on the observation that, if `r` is the remainder when `a` is divided by `b`, then the common divisors of `a` and `b` are precisely the same as the common divisors of `b` and `r`.\n",
        ">\n",
        "> Thus, we can use the equation\n",
        ">\n",
        "> $$GCD(a, b) = GCD(b, r)$$\n",
        ">\n",
        ">to successively reduce the problem of computing a GCD to the problem of computing the GCD of smaller and smaller pairs of integers.\n",
        ">\n",
        "> It is possible to show that starting with any two positive integers and performing repeated reductions will always eventually produce a pair where the second number is 0. Then the GCD is the other number in the pair.\n",
        "\n",
        "Write a function called `gcd` that takes two integers and uses this algorithm to compute their greatest common divisor."
      ]
    },
    {
      "cell_type": "code",
      "execution_count": null,
      "id": "51bce3ad",
      "metadata": {
        "id": "51bce3ad"
      },
      "outputs": [],
      "source": []
    },
    {
      "cell_type": "code",
      "execution_count": null,
      "id": "e00ef245",
      "metadata": {
        "id": "e00ef245"
      },
      "outputs": [],
      "source": []
    },
    {
      "cell_type": "markdown",
      "id": "9f61ddfc",
      "metadata": {
        "id": "9f61ddfc"
      },
      "source": [
        "This one is from [Structure and Interpretation of Computer Programs](https://mitpress.mit.edu/sites/default/files/sicp/index.html):\n",
        "\n",
        "> How many different ways can we make change of \\$1.00, given half-dollars, quarters, dimes, nickels, and pennies? [...]\n",
        ">\n",
        ">[...] Suppose we think of the types of coins available as arranged in some order. [..] observe that the ways to make change can be divided into two groups: those that do not use any of the first kind of coin, and those that do. Therefore, the total number of ways to make change for some amount is equal to the number of ways to make change for the amount without using any of the first kind of coin, plus the number of ways to make change assuming that we do use the first kind of coin.\n",
        "\n",
        "Write a function that takes as parameters an amount of money in cents and a sequence of coin denominations. It should return the number of combinations of coins that add up to the given amount.\n",
        "\n",
        "The result for one dollar (`100` cents) with coins of denominations `(50, 25, 10, 5, 1)` should be `292`.\n",
        "\n",
        "You might have to give some thought to the base cases."
      ]
    },
    {
      "cell_type": "code",
      "execution_count": 15,
      "id": "62c10987",
      "metadata": {
        "id": "62c10987"
      },
      "outputs": [],
      "source": [
        "def combinations_correct(amount, denominations):\n",
        "    # Base case 1: If the amount is 0, we've successfully made change.\n",
        "    if amount == 0:\n",
        "        return 1\n",
        "\n",
        "    # Base case 2: If the amount is negative, this path is invalid.\n",
        "    if amount < 0:\n",
        "        return 0\n",
        "\n",
        "    # Base case 3: If there are no denominations left but the amount is still > 0,\n",
        "    # we can't make change.\n",
        "    if not denominations:\n",
        "        return 0\n",
        "\n",
        "    # Recursive step:\n",
        "    # 1. Number of ways without using the first denomination (denominations[0])\n",
        "    # 2. Number of ways using the first denomination at least once\n",
        "    #    (reduce the amount by the first denomination and use the same set of denominations)\n",
        "    return combinations_correct(amount, denominations[1:]) + \\\n",
        "           combinations_correct(amount - denominations[0], denominations)"
      ]
    },
    {
      "cell_type": "code",
      "source": [
        "print(combinations(100, (50, 25, 10, 5, 1)))"
      ],
      "metadata": {
        "id": "abERT_yJ_rxI",
        "outputId": "530cd26f-23d2-4be4-b0a2-0d9246cd13bf",
        "colab": {
          "base_uri": "https://localhost:8080/",
          "height": 287
        }
      },
      "id": "abERT_yJ_rxI",
      "execution_count": 16,
      "outputs": [
        {
          "output_type": "error",
          "ename": "KeyboardInterrupt",
          "evalue": "",
          "traceback": [
            "\u001b[0;31m---------------------------------------------------------------------------\u001b[0m",
            "\u001b[0;31mKeyboardInterrupt\u001b[0m                         Traceback (most recent call last)",
            "\u001b[0;32m<ipython-input-16-54cb2a164739>\u001b[0m in \u001b[0;36m<cell line: 0>\u001b[0;34m()\u001b[0m\n\u001b[0;32m----> 1\u001b[0;31m \u001b[0mprint\u001b[0m\u001b[0;34m(\u001b[0m\u001b[0mcombinations\u001b[0m\u001b[0;34m(\u001b[0m\u001b[0;36m100\u001b[0m\u001b[0;34m,\u001b[0m \u001b[0;34m(\u001b[0m\u001b[0;36m50\u001b[0m\u001b[0;34m,\u001b[0m \u001b[0;36m25\u001b[0m\u001b[0;34m,\u001b[0m \u001b[0;36m10\u001b[0m\u001b[0;34m,\u001b[0m \u001b[0;36m5\u001b[0m\u001b[0;34m,\u001b[0m \u001b[0;36m1\u001b[0m\u001b[0;34m)\u001b[0m\u001b[0;34m)\u001b[0m\u001b[0;34m)\u001b[0m\u001b[0;34m\u001b[0m\u001b[0;34m\u001b[0m\u001b[0m\n\u001b[0m",
            "\u001b[0;32m<ipython-input-13-0b4c39eb79ed>\u001b[0m in \u001b[0;36mcombinations\u001b[0;34m(amount, denominations)\u001b[0m\n\u001b[1;32m      6\u001b[0m     \u001b[0;32mif\u001b[0m \u001b[0mden\u001b[0m \u001b[0;34m>\u001b[0m \u001b[0mamount\u001b[0m\u001b[0;34m:\u001b[0m\u001b[0;34m\u001b[0m\u001b[0;34m\u001b[0m\u001b[0m\n\u001b[1;32m      7\u001b[0m       \u001b[0;32mcontinue\u001b[0m\u001b[0;34m\u001b[0m\u001b[0;34m\u001b[0m\u001b[0m\n\u001b[0;32m----> 8\u001b[0;31m     \u001b[0ma\u001b[0m \u001b[0;34m+=\u001b[0m \u001b[0;36m1\u001b[0m\u001b[0;34m+\u001b[0m\u001b[0mcombinations\u001b[0m\u001b[0;34m(\u001b[0m\u001b[0mamount\u001b[0m\u001b[0;34m-\u001b[0m\u001b[0mden\u001b[0m\u001b[0;34m,\u001b[0m \u001b[0mdenominations\u001b[0m\u001b[0;34m)\u001b[0m\u001b[0;34m\u001b[0m\u001b[0;34m\u001b[0m\u001b[0m\n\u001b[0m\u001b[1;32m      9\u001b[0m   \u001b[0;32mreturn\u001b[0m \u001b[0ma\u001b[0m\u001b[0;34m\u001b[0m\u001b[0;34m\u001b[0m\u001b[0m\n",
            "\u001b[0;32m<ipython-input-13-0b4c39eb79ed>\u001b[0m in \u001b[0;36mcombinations\u001b[0;34m(amount, denominations)\u001b[0m\n\u001b[1;32m      6\u001b[0m     \u001b[0;32mif\u001b[0m \u001b[0mden\u001b[0m \u001b[0;34m>\u001b[0m \u001b[0mamount\u001b[0m\u001b[0;34m:\u001b[0m\u001b[0;34m\u001b[0m\u001b[0;34m\u001b[0m\u001b[0m\n\u001b[1;32m      7\u001b[0m       \u001b[0;32mcontinue\u001b[0m\u001b[0;34m\u001b[0m\u001b[0;34m\u001b[0m\u001b[0m\n\u001b[0;32m----> 8\u001b[0;31m     \u001b[0ma\u001b[0m \u001b[0;34m+=\u001b[0m \u001b[0;36m1\u001b[0m\u001b[0;34m+\u001b[0m\u001b[0mcombinations\u001b[0m\u001b[0;34m(\u001b[0m\u001b[0mamount\u001b[0m\u001b[0;34m-\u001b[0m\u001b[0mden\u001b[0m\u001b[0;34m,\u001b[0m \u001b[0mdenominations\u001b[0m\u001b[0;34m)\u001b[0m\u001b[0;34m\u001b[0m\u001b[0;34m\u001b[0m\u001b[0m\n\u001b[0m\u001b[1;32m      9\u001b[0m   \u001b[0;32mreturn\u001b[0m \u001b[0ma\u001b[0m\u001b[0;34m\u001b[0m\u001b[0;34m\u001b[0m\u001b[0m\n",
            "\u001b[0;32m<ipython-input-13-0b4c39eb79ed>\u001b[0m in \u001b[0;36mcombinations\u001b[0;34m(amount, denominations)\u001b[0m\n\u001b[1;32m      6\u001b[0m     \u001b[0;32mif\u001b[0m \u001b[0mden\u001b[0m \u001b[0;34m>\u001b[0m \u001b[0mamount\u001b[0m\u001b[0;34m:\u001b[0m\u001b[0;34m\u001b[0m\u001b[0;34m\u001b[0m\u001b[0m\n\u001b[1;32m      7\u001b[0m       \u001b[0;32mcontinue\u001b[0m\u001b[0;34m\u001b[0m\u001b[0;34m\u001b[0m\u001b[0m\n\u001b[0;32m----> 8\u001b[0;31m     \u001b[0ma\u001b[0m \u001b[0;34m+=\u001b[0m \u001b[0;36m1\u001b[0m\u001b[0;34m+\u001b[0m\u001b[0mcombinations\u001b[0m\u001b[0;34m(\u001b[0m\u001b[0mamount\u001b[0m\u001b[0;34m-\u001b[0m\u001b[0mden\u001b[0m\u001b[0;34m,\u001b[0m \u001b[0mdenominations\u001b[0m\u001b[0;34m)\u001b[0m\u001b[0;34m\u001b[0m\u001b[0;34m\u001b[0m\u001b[0m\n\u001b[0m\u001b[1;32m      9\u001b[0m   \u001b[0;32mreturn\u001b[0m \u001b[0ma\u001b[0m\u001b[0;34m\u001b[0m\u001b[0;34m\u001b[0m\u001b[0m\n",
            "\u001b[0;32m<ipython-input-13-0b4c39eb79ed>\u001b[0m in \u001b[0;36mcombinations\u001b[0;34m(amount, denominations)\u001b[0m\n\u001b[1;32m      6\u001b[0m     \u001b[0;32mif\u001b[0m \u001b[0mden\u001b[0m \u001b[0;34m>\u001b[0m \u001b[0mamount\u001b[0m\u001b[0;34m:\u001b[0m\u001b[0;34m\u001b[0m\u001b[0;34m\u001b[0m\u001b[0m\n\u001b[1;32m      7\u001b[0m       \u001b[0;32mcontinue\u001b[0m\u001b[0;34m\u001b[0m\u001b[0;34m\u001b[0m\u001b[0m\n\u001b[0;32m----> 8\u001b[0;31m     \u001b[0ma\u001b[0m \u001b[0;34m+=\u001b[0m \u001b[0;36m1\u001b[0m\u001b[0;34m+\u001b[0m\u001b[0mcombinations\u001b[0m\u001b[0;34m(\u001b[0m\u001b[0mamount\u001b[0m\u001b[0;34m-\u001b[0m\u001b[0mden\u001b[0m\u001b[0;34m,\u001b[0m \u001b[0mdenominations\u001b[0m\u001b[0;34m)\u001b[0m\u001b[0;34m\u001b[0m\u001b[0;34m\u001b[0m\u001b[0m\n\u001b[0m\u001b[1;32m      9\u001b[0m   \u001b[0;32mreturn\u001b[0m \u001b[0ma\u001b[0m\u001b[0;34m\u001b[0m\u001b[0;34m\u001b[0m\u001b[0m\n",
            "\u001b[0;32m<ipython-input-13-0b4c39eb79ed>\u001b[0m in \u001b[0;36mcombinations\u001b[0;34m(amount, denominations)\u001b[0m\n\u001b[1;32m      6\u001b[0m     \u001b[0;32mif\u001b[0m \u001b[0mden\u001b[0m \u001b[0;34m>\u001b[0m \u001b[0mamount\u001b[0m\u001b[0;34m:\u001b[0m\u001b[0;34m\u001b[0m\u001b[0;34m\u001b[0m\u001b[0m\n\u001b[1;32m      7\u001b[0m       \u001b[0;32mcontinue\u001b[0m\u001b[0;34m\u001b[0m\u001b[0;34m\u001b[0m\u001b[0m\n\u001b[0;32m----> 8\u001b[0;31m     \u001b[0ma\u001b[0m \u001b[0;34m+=\u001b[0m \u001b[0;36m1\u001b[0m\u001b[0;34m+\u001b[0m\u001b[0mcombinations\u001b[0m\u001b[0;34m(\u001b[0m\u001b[0mamount\u001b[0m\u001b[0;34m-\u001b[0m\u001b[0mden\u001b[0m\u001b[0;34m,\u001b[0m \u001b[0mdenominations\u001b[0m\u001b[0;34m)\u001b[0m\u001b[0;34m\u001b[0m\u001b[0;34m\u001b[0m\u001b[0m\n\u001b[0m\u001b[1;32m      9\u001b[0m   \u001b[0;32mreturn\u001b[0m \u001b[0ma\u001b[0m\u001b[0;34m\u001b[0m\u001b[0;34m\u001b[0m\u001b[0m\n",
            "\u001b[0;32m<ipython-input-13-0b4c39eb79ed>\u001b[0m in \u001b[0;36mcombinations\u001b[0;34m(amount, denominations)\u001b[0m\n\u001b[1;32m      6\u001b[0m     \u001b[0;32mif\u001b[0m \u001b[0mden\u001b[0m \u001b[0;34m>\u001b[0m \u001b[0mamount\u001b[0m\u001b[0;34m:\u001b[0m\u001b[0;34m\u001b[0m\u001b[0;34m\u001b[0m\u001b[0m\n\u001b[1;32m      7\u001b[0m       \u001b[0;32mcontinue\u001b[0m\u001b[0;34m\u001b[0m\u001b[0;34m\u001b[0m\u001b[0m\n\u001b[0;32m----> 8\u001b[0;31m     \u001b[0ma\u001b[0m \u001b[0;34m+=\u001b[0m \u001b[0;36m1\u001b[0m\u001b[0;34m+\u001b[0m\u001b[0mcombinations\u001b[0m\u001b[0;34m(\u001b[0m\u001b[0mamount\u001b[0m\u001b[0;34m-\u001b[0m\u001b[0mden\u001b[0m\u001b[0;34m,\u001b[0m \u001b[0mdenominations\u001b[0m\u001b[0;34m)\u001b[0m\u001b[0;34m\u001b[0m\u001b[0;34m\u001b[0m\u001b[0m\n\u001b[0m\u001b[1;32m      9\u001b[0m   \u001b[0;32mreturn\u001b[0m \u001b[0ma\u001b[0m\u001b[0;34m\u001b[0m\u001b[0;34m\u001b[0m\u001b[0m\n",
            "\u001b[0;32m<ipython-input-13-0b4c39eb79ed>\u001b[0m in \u001b[0;36mcombinations\u001b[0;34m(amount, denominations)\u001b[0m\n\u001b[1;32m      6\u001b[0m     \u001b[0;32mif\u001b[0m \u001b[0mden\u001b[0m \u001b[0;34m>\u001b[0m \u001b[0mamount\u001b[0m\u001b[0;34m:\u001b[0m\u001b[0;34m\u001b[0m\u001b[0;34m\u001b[0m\u001b[0m\n\u001b[1;32m      7\u001b[0m       \u001b[0;32mcontinue\u001b[0m\u001b[0;34m\u001b[0m\u001b[0;34m\u001b[0m\u001b[0m\n\u001b[0;32m----> 8\u001b[0;31m     \u001b[0ma\u001b[0m \u001b[0;34m+=\u001b[0m \u001b[0;36m1\u001b[0m\u001b[0;34m+\u001b[0m\u001b[0mcombinations\u001b[0m\u001b[0;34m(\u001b[0m\u001b[0mamount\u001b[0m\u001b[0;34m-\u001b[0m\u001b[0mden\u001b[0m\u001b[0;34m,\u001b[0m \u001b[0mdenominations\u001b[0m\u001b[0;34m)\u001b[0m\u001b[0;34m\u001b[0m\u001b[0;34m\u001b[0m\u001b[0m\n\u001b[0m\u001b[1;32m      9\u001b[0m   \u001b[0;32mreturn\u001b[0m \u001b[0ma\u001b[0m\u001b[0;34m\u001b[0m\u001b[0;34m\u001b[0m\u001b[0m\n",
            "\u001b[0;32m<ipython-input-13-0b4c39eb79ed>\u001b[0m in \u001b[0;36mcombinations\u001b[0;34m(amount, denominations)\u001b[0m\n\u001b[1;32m      6\u001b[0m     \u001b[0;32mif\u001b[0m \u001b[0mden\u001b[0m \u001b[0;34m>\u001b[0m \u001b[0mamount\u001b[0m\u001b[0;34m:\u001b[0m\u001b[0;34m\u001b[0m\u001b[0;34m\u001b[0m\u001b[0m\n\u001b[1;32m      7\u001b[0m       \u001b[0;32mcontinue\u001b[0m\u001b[0;34m\u001b[0m\u001b[0;34m\u001b[0m\u001b[0m\n\u001b[0;32m----> 8\u001b[0;31m     \u001b[0ma\u001b[0m \u001b[0;34m+=\u001b[0m \u001b[0;36m1\u001b[0m\u001b[0;34m+\u001b[0m\u001b[0mcombinations\u001b[0m\u001b[0;34m(\u001b[0m\u001b[0mamount\u001b[0m\u001b[0;34m-\u001b[0m\u001b[0mden\u001b[0m\u001b[0;34m,\u001b[0m \u001b[0mdenominations\u001b[0m\u001b[0;34m)\u001b[0m\u001b[0;34m\u001b[0m\u001b[0;34m\u001b[0m\u001b[0m\n\u001b[0m\u001b[1;32m      9\u001b[0m   \u001b[0;32mreturn\u001b[0m \u001b[0ma\u001b[0m\u001b[0;34m\u001b[0m\u001b[0;34m\u001b[0m\u001b[0m\n",
            "\u001b[0;32m<ipython-input-13-0b4c39eb79ed>\u001b[0m in \u001b[0;36mcombinations\u001b[0;34m(amount, denominations)\u001b[0m\n\u001b[1;32m      6\u001b[0m     \u001b[0;32mif\u001b[0m \u001b[0mden\u001b[0m \u001b[0;34m>\u001b[0m \u001b[0mamount\u001b[0m\u001b[0;34m:\u001b[0m\u001b[0;34m\u001b[0m\u001b[0;34m\u001b[0m\u001b[0m\n\u001b[1;32m      7\u001b[0m       \u001b[0;32mcontinue\u001b[0m\u001b[0;34m\u001b[0m\u001b[0;34m\u001b[0m\u001b[0m\n\u001b[0;32m----> 8\u001b[0;31m     \u001b[0ma\u001b[0m \u001b[0;34m+=\u001b[0m \u001b[0;36m1\u001b[0m\u001b[0;34m+\u001b[0m\u001b[0mcombinations\u001b[0m\u001b[0;34m(\u001b[0m\u001b[0mamount\u001b[0m\u001b[0;34m-\u001b[0m\u001b[0mden\u001b[0m\u001b[0;34m,\u001b[0m \u001b[0mdenominations\u001b[0m\u001b[0;34m)\u001b[0m\u001b[0;34m\u001b[0m\u001b[0;34m\u001b[0m\u001b[0m\n\u001b[0m\u001b[1;32m      9\u001b[0m   \u001b[0;32mreturn\u001b[0m \u001b[0ma\u001b[0m\u001b[0;34m\u001b[0m\u001b[0;34m\u001b[0m\u001b[0m\n",
            "\u001b[0;32m<ipython-input-13-0b4c39eb79ed>\u001b[0m in \u001b[0;36mcombinations\u001b[0;34m(amount, denominations)\u001b[0m\n\u001b[1;32m      6\u001b[0m     \u001b[0;32mif\u001b[0m \u001b[0mden\u001b[0m \u001b[0;34m>\u001b[0m \u001b[0mamount\u001b[0m\u001b[0;34m:\u001b[0m\u001b[0;34m\u001b[0m\u001b[0;34m\u001b[0m\u001b[0m\n\u001b[1;32m      7\u001b[0m       \u001b[0;32mcontinue\u001b[0m\u001b[0;34m\u001b[0m\u001b[0;34m\u001b[0m\u001b[0m\n\u001b[0;32m----> 8\u001b[0;31m     \u001b[0ma\u001b[0m \u001b[0;34m+=\u001b[0m \u001b[0;36m1\u001b[0m\u001b[0;34m+\u001b[0m\u001b[0mcombinations\u001b[0m\u001b[0;34m(\u001b[0m\u001b[0mamount\u001b[0m\u001b[0;34m-\u001b[0m\u001b[0mden\u001b[0m\u001b[0;34m,\u001b[0m \u001b[0mdenominations\u001b[0m\u001b[0;34m)\u001b[0m\u001b[0;34m\u001b[0m\u001b[0;34m\u001b[0m\u001b[0m\n\u001b[0m\u001b[1;32m      9\u001b[0m   \u001b[0;32mreturn\u001b[0m \u001b[0ma\u001b[0m\u001b[0;34m\u001b[0m\u001b[0;34m\u001b[0m\u001b[0m\n",
            "\u001b[0;32m<ipython-input-13-0b4c39eb79ed>\u001b[0m in \u001b[0;36mcombinations\u001b[0;34m(amount, denominations)\u001b[0m\n\u001b[1;32m      6\u001b[0m     \u001b[0;32mif\u001b[0m \u001b[0mden\u001b[0m \u001b[0;34m>\u001b[0m \u001b[0mamount\u001b[0m\u001b[0;34m:\u001b[0m\u001b[0;34m\u001b[0m\u001b[0;34m\u001b[0m\u001b[0m\n\u001b[1;32m      7\u001b[0m       \u001b[0;32mcontinue\u001b[0m\u001b[0;34m\u001b[0m\u001b[0;34m\u001b[0m\u001b[0m\n\u001b[0;32m----> 8\u001b[0;31m     \u001b[0ma\u001b[0m \u001b[0;34m+=\u001b[0m \u001b[0;36m1\u001b[0m\u001b[0;34m+\u001b[0m\u001b[0mcombinations\u001b[0m\u001b[0;34m(\u001b[0m\u001b[0mamount\u001b[0m\u001b[0;34m-\u001b[0m\u001b[0mden\u001b[0m\u001b[0;34m,\u001b[0m \u001b[0mdenominations\u001b[0m\u001b[0;34m)\u001b[0m\u001b[0;34m\u001b[0m\u001b[0;34m\u001b[0m\u001b[0m\n\u001b[0m\u001b[1;32m      9\u001b[0m   \u001b[0;32mreturn\u001b[0m \u001b[0ma\u001b[0m\u001b[0;34m\u001b[0m\u001b[0;34m\u001b[0m\u001b[0m\n",
            "\u001b[0;32m<ipython-input-13-0b4c39eb79ed>\u001b[0m in \u001b[0;36mcombinations\u001b[0;34m(amount, denominations)\u001b[0m\n\u001b[1;32m      6\u001b[0m     \u001b[0;32mif\u001b[0m \u001b[0mden\u001b[0m \u001b[0;34m>\u001b[0m \u001b[0mamount\u001b[0m\u001b[0;34m:\u001b[0m\u001b[0;34m\u001b[0m\u001b[0;34m\u001b[0m\u001b[0m\n\u001b[1;32m      7\u001b[0m       \u001b[0;32mcontinue\u001b[0m\u001b[0;34m\u001b[0m\u001b[0;34m\u001b[0m\u001b[0m\n\u001b[0;32m----> 8\u001b[0;31m     \u001b[0ma\u001b[0m \u001b[0;34m+=\u001b[0m \u001b[0;36m1\u001b[0m\u001b[0;34m+\u001b[0m\u001b[0mcombinations\u001b[0m\u001b[0;34m(\u001b[0m\u001b[0mamount\u001b[0m\u001b[0;34m-\u001b[0m\u001b[0mden\u001b[0m\u001b[0;34m,\u001b[0m \u001b[0mdenominations\u001b[0m\u001b[0;34m)\u001b[0m\u001b[0;34m\u001b[0m\u001b[0;34m\u001b[0m\u001b[0m\n\u001b[0m\u001b[1;32m      9\u001b[0m   \u001b[0;32mreturn\u001b[0m \u001b[0ma\u001b[0m\u001b[0;34m\u001b[0m\u001b[0;34m\u001b[0m\u001b[0m\n",
            "\u001b[0;32m<ipython-input-13-0b4c39eb79ed>\u001b[0m in \u001b[0;36mcombinations\u001b[0;34m(amount, denominations)\u001b[0m\n\u001b[1;32m      6\u001b[0m     \u001b[0;32mif\u001b[0m \u001b[0mden\u001b[0m \u001b[0;34m>\u001b[0m \u001b[0mamount\u001b[0m\u001b[0;34m:\u001b[0m\u001b[0;34m\u001b[0m\u001b[0;34m\u001b[0m\u001b[0m\n\u001b[1;32m      7\u001b[0m       \u001b[0;32mcontinue\u001b[0m\u001b[0;34m\u001b[0m\u001b[0;34m\u001b[0m\u001b[0m\n\u001b[0;32m----> 8\u001b[0;31m     \u001b[0ma\u001b[0m \u001b[0;34m+=\u001b[0m \u001b[0;36m1\u001b[0m\u001b[0;34m+\u001b[0m\u001b[0mcombinations\u001b[0m\u001b[0;34m(\u001b[0m\u001b[0mamount\u001b[0m\u001b[0;34m-\u001b[0m\u001b[0mden\u001b[0m\u001b[0;34m,\u001b[0m \u001b[0mdenominations\u001b[0m\u001b[0;34m)\u001b[0m\u001b[0;34m\u001b[0m\u001b[0;34m\u001b[0m\u001b[0m\n\u001b[0m\u001b[1;32m      9\u001b[0m   \u001b[0;32mreturn\u001b[0m \u001b[0ma\u001b[0m\u001b[0;34m\u001b[0m\u001b[0;34m\u001b[0m\u001b[0m\n",
            "\u001b[0;32m<ipython-input-13-0b4c39eb79ed>\u001b[0m in \u001b[0;36mcombinations\u001b[0;34m(amount, denominations)\u001b[0m\n\u001b[1;32m      6\u001b[0m     \u001b[0;32mif\u001b[0m \u001b[0mden\u001b[0m \u001b[0;34m>\u001b[0m \u001b[0mamount\u001b[0m\u001b[0;34m:\u001b[0m\u001b[0;34m\u001b[0m\u001b[0;34m\u001b[0m\u001b[0m\n\u001b[1;32m      7\u001b[0m       \u001b[0;32mcontinue\u001b[0m\u001b[0;34m\u001b[0m\u001b[0;34m\u001b[0m\u001b[0m\n\u001b[0;32m----> 8\u001b[0;31m     \u001b[0ma\u001b[0m \u001b[0;34m+=\u001b[0m \u001b[0;36m1\u001b[0m\u001b[0;34m+\u001b[0m\u001b[0mcombinations\u001b[0m\u001b[0;34m(\u001b[0m\u001b[0mamount\u001b[0m\u001b[0;34m-\u001b[0m\u001b[0mden\u001b[0m\u001b[0;34m,\u001b[0m \u001b[0mdenominations\u001b[0m\u001b[0;34m)\u001b[0m\u001b[0;34m\u001b[0m\u001b[0;34m\u001b[0m\u001b[0m\n\u001b[0m\u001b[1;32m      9\u001b[0m   \u001b[0;32mreturn\u001b[0m \u001b[0ma\u001b[0m\u001b[0;34m\u001b[0m\u001b[0;34m\u001b[0m\u001b[0m\n",
            "\u001b[0;32m<ipython-input-13-0b4c39eb79ed>\u001b[0m in \u001b[0;36mcombinations\u001b[0;34m(amount, denominations)\u001b[0m\n\u001b[1;32m      6\u001b[0m     \u001b[0;32mif\u001b[0m \u001b[0mden\u001b[0m \u001b[0;34m>\u001b[0m \u001b[0mamount\u001b[0m\u001b[0;34m:\u001b[0m\u001b[0;34m\u001b[0m\u001b[0;34m\u001b[0m\u001b[0m\n\u001b[1;32m      7\u001b[0m       \u001b[0;32mcontinue\u001b[0m\u001b[0;34m\u001b[0m\u001b[0;34m\u001b[0m\u001b[0m\n\u001b[0;32m----> 8\u001b[0;31m     \u001b[0ma\u001b[0m \u001b[0;34m+=\u001b[0m \u001b[0;36m1\u001b[0m\u001b[0;34m+\u001b[0m\u001b[0mcombinations\u001b[0m\u001b[0;34m(\u001b[0m\u001b[0mamount\u001b[0m\u001b[0;34m-\u001b[0m\u001b[0mden\u001b[0m\u001b[0;34m,\u001b[0m \u001b[0mdenominations\u001b[0m\u001b[0;34m)\u001b[0m\u001b[0;34m\u001b[0m\u001b[0;34m\u001b[0m\u001b[0m\n\u001b[0m\u001b[1;32m      9\u001b[0m   \u001b[0;32mreturn\u001b[0m \u001b[0ma\u001b[0m\u001b[0;34m\u001b[0m\u001b[0;34m\u001b[0m\u001b[0m\n",
            "\u001b[0;32m<ipython-input-13-0b4c39eb79ed>\u001b[0m in \u001b[0;36mcombinations\u001b[0;34m(amount, denominations)\u001b[0m\n\u001b[1;32m      6\u001b[0m     \u001b[0;32mif\u001b[0m \u001b[0mden\u001b[0m \u001b[0;34m>\u001b[0m \u001b[0mamount\u001b[0m\u001b[0;34m:\u001b[0m\u001b[0;34m\u001b[0m\u001b[0;34m\u001b[0m\u001b[0m\n\u001b[1;32m      7\u001b[0m       \u001b[0;32mcontinue\u001b[0m\u001b[0;34m\u001b[0m\u001b[0;34m\u001b[0m\u001b[0m\n\u001b[0;32m----> 8\u001b[0;31m     \u001b[0ma\u001b[0m \u001b[0;34m+=\u001b[0m \u001b[0;36m1\u001b[0m\u001b[0;34m+\u001b[0m\u001b[0mcombinations\u001b[0m\u001b[0;34m(\u001b[0m\u001b[0mamount\u001b[0m\u001b[0;34m-\u001b[0m\u001b[0mden\u001b[0m\u001b[0;34m,\u001b[0m \u001b[0mdenominations\u001b[0m\u001b[0;34m)\u001b[0m\u001b[0;34m\u001b[0m\u001b[0;34m\u001b[0m\u001b[0m\n\u001b[0m\u001b[1;32m      9\u001b[0m   \u001b[0;32mreturn\u001b[0m \u001b[0ma\u001b[0m\u001b[0;34m\u001b[0m\u001b[0;34m\u001b[0m\u001b[0m\n",
            "\u001b[0;32m<ipython-input-13-0b4c39eb79ed>\u001b[0m in \u001b[0;36mcombinations\u001b[0;34m(amount, denominations)\u001b[0m\n\u001b[1;32m      6\u001b[0m     \u001b[0;32mif\u001b[0m \u001b[0mden\u001b[0m \u001b[0;34m>\u001b[0m \u001b[0mamount\u001b[0m\u001b[0;34m:\u001b[0m\u001b[0;34m\u001b[0m\u001b[0;34m\u001b[0m\u001b[0m\n\u001b[1;32m      7\u001b[0m       \u001b[0;32mcontinue\u001b[0m\u001b[0;34m\u001b[0m\u001b[0;34m\u001b[0m\u001b[0m\n\u001b[0;32m----> 8\u001b[0;31m     \u001b[0ma\u001b[0m \u001b[0;34m+=\u001b[0m \u001b[0;36m1\u001b[0m\u001b[0;34m+\u001b[0m\u001b[0mcombinations\u001b[0m\u001b[0;34m(\u001b[0m\u001b[0mamount\u001b[0m\u001b[0;34m-\u001b[0m\u001b[0mden\u001b[0m\u001b[0;34m,\u001b[0m \u001b[0mdenominations\u001b[0m\u001b[0;34m)\u001b[0m\u001b[0;34m\u001b[0m\u001b[0;34m\u001b[0m\u001b[0m\n\u001b[0m\u001b[1;32m      9\u001b[0m   \u001b[0;32mreturn\u001b[0m \u001b[0ma\u001b[0m\u001b[0;34m\u001b[0m\u001b[0;34m\u001b[0m\u001b[0m\n",
            "\u001b[0;32m<ipython-input-13-0b4c39eb79ed>\u001b[0m in \u001b[0;36mcombinations\u001b[0;34m(amount, denominations)\u001b[0m\n\u001b[1;32m      6\u001b[0m     \u001b[0;32mif\u001b[0m \u001b[0mden\u001b[0m \u001b[0;34m>\u001b[0m \u001b[0mamount\u001b[0m\u001b[0;34m:\u001b[0m\u001b[0;34m\u001b[0m\u001b[0;34m\u001b[0m\u001b[0m\n\u001b[1;32m      7\u001b[0m       \u001b[0;32mcontinue\u001b[0m\u001b[0;34m\u001b[0m\u001b[0;34m\u001b[0m\u001b[0m\n\u001b[0;32m----> 8\u001b[0;31m     \u001b[0ma\u001b[0m \u001b[0;34m+=\u001b[0m \u001b[0;36m1\u001b[0m\u001b[0;34m+\u001b[0m\u001b[0mcombinations\u001b[0m\u001b[0;34m(\u001b[0m\u001b[0mamount\u001b[0m\u001b[0;34m-\u001b[0m\u001b[0mden\u001b[0m\u001b[0;34m,\u001b[0m \u001b[0mdenominations\u001b[0m\u001b[0;34m)\u001b[0m\u001b[0;34m\u001b[0m\u001b[0;34m\u001b[0m\u001b[0m\n\u001b[0m\u001b[1;32m      9\u001b[0m   \u001b[0;32mreturn\u001b[0m \u001b[0ma\u001b[0m\u001b[0;34m\u001b[0m\u001b[0;34m\u001b[0m\u001b[0m\n",
            "\u001b[0;32m<ipython-input-13-0b4c39eb79ed>\u001b[0m in \u001b[0;36mcombinations\u001b[0;34m(amount, denominations)\u001b[0m\n\u001b[1;32m      6\u001b[0m     \u001b[0;32mif\u001b[0m \u001b[0mden\u001b[0m \u001b[0;34m>\u001b[0m \u001b[0mamount\u001b[0m\u001b[0;34m:\u001b[0m\u001b[0;34m\u001b[0m\u001b[0;34m\u001b[0m\u001b[0m\n\u001b[1;32m      7\u001b[0m       \u001b[0;32mcontinue\u001b[0m\u001b[0;34m\u001b[0m\u001b[0;34m\u001b[0m\u001b[0m\n\u001b[0;32m----> 8\u001b[0;31m     \u001b[0ma\u001b[0m \u001b[0;34m+=\u001b[0m \u001b[0;36m1\u001b[0m\u001b[0;34m+\u001b[0m\u001b[0mcombinations\u001b[0m\u001b[0;34m(\u001b[0m\u001b[0mamount\u001b[0m\u001b[0;34m-\u001b[0m\u001b[0mden\u001b[0m\u001b[0;34m,\u001b[0m \u001b[0mdenominations\u001b[0m\u001b[0;34m)\u001b[0m\u001b[0;34m\u001b[0m\u001b[0;34m\u001b[0m\u001b[0m\n\u001b[0m\u001b[1;32m      9\u001b[0m   \u001b[0;32mreturn\u001b[0m \u001b[0ma\u001b[0m\u001b[0;34m\u001b[0m\u001b[0;34m\u001b[0m\u001b[0m\n",
            "\u001b[0;32m<ipython-input-13-0b4c39eb79ed>\u001b[0m in \u001b[0;36mcombinations\u001b[0;34m(amount, denominations)\u001b[0m\n\u001b[1;32m      6\u001b[0m     \u001b[0;32mif\u001b[0m \u001b[0mden\u001b[0m \u001b[0;34m>\u001b[0m \u001b[0mamount\u001b[0m\u001b[0;34m:\u001b[0m\u001b[0;34m\u001b[0m\u001b[0;34m\u001b[0m\u001b[0m\n\u001b[1;32m      7\u001b[0m       \u001b[0;32mcontinue\u001b[0m\u001b[0;34m\u001b[0m\u001b[0;34m\u001b[0m\u001b[0m\n\u001b[0;32m----> 8\u001b[0;31m     \u001b[0ma\u001b[0m \u001b[0;34m+=\u001b[0m \u001b[0;36m1\u001b[0m\u001b[0;34m+\u001b[0m\u001b[0mcombinations\u001b[0m\u001b[0;34m(\u001b[0m\u001b[0mamount\u001b[0m\u001b[0;34m-\u001b[0m\u001b[0mden\u001b[0m\u001b[0;34m,\u001b[0m \u001b[0mdenominations\u001b[0m\u001b[0;34m)\u001b[0m\u001b[0;34m\u001b[0m\u001b[0;34m\u001b[0m\u001b[0m\n\u001b[0m\u001b[1;32m      9\u001b[0m   \u001b[0;32mreturn\u001b[0m \u001b[0ma\u001b[0m\u001b[0;34m\u001b[0m\u001b[0;34m\u001b[0m\u001b[0m\n",
            "\u001b[0;32m<ipython-input-13-0b4c39eb79ed>\u001b[0m in \u001b[0;36mcombinations\u001b[0;34m(amount, denominations)\u001b[0m\n\u001b[0;32m----> 1\u001b[0;31m \u001b[0;32mdef\u001b[0m \u001b[0mcombinations\u001b[0m\u001b[0;34m(\u001b[0m\u001b[0mamount\u001b[0m\u001b[0;34m,\u001b[0m \u001b[0mdenominations\u001b[0m\u001b[0;34m)\u001b[0m\u001b[0;34m:\u001b[0m\u001b[0;34m\u001b[0m\u001b[0;34m\u001b[0m\u001b[0m\n\u001b[0m\u001b[1;32m      2\u001b[0m   \u001b[0;32mif\u001b[0m \u001b[0mamount\u001b[0m\u001b[0;34m==\u001b[0m\u001b[0;36m0\u001b[0m\u001b[0;34m:\u001b[0m\u001b[0;34m\u001b[0m\u001b[0;34m\u001b[0m\u001b[0m\n\u001b[1;32m      3\u001b[0m     \u001b[0;32mreturn\u001b[0m \u001b[0;36m0\u001b[0m\u001b[0;34m\u001b[0m\u001b[0;34m\u001b[0m\u001b[0m\n\u001b[1;32m      4\u001b[0m   \u001b[0ma\u001b[0m\u001b[0;34m=\u001b[0m\u001b[0;36m0\u001b[0m\u001b[0;34m\u001b[0m\u001b[0;34m\u001b[0m\u001b[0m\n\u001b[1;32m      5\u001b[0m   \u001b[0;32mfor\u001b[0m \u001b[0mden\u001b[0m \u001b[0;32min\u001b[0m \u001b[0mdenominations\u001b[0m\u001b[0;34m:\u001b[0m\u001b[0;34m\u001b[0m\u001b[0;34m\u001b[0m\u001b[0m\n",
            "\u001b[0;31mKeyboardInterrupt\u001b[0m: "
          ]
        }
      ]
    },
    {
      "cell_type": "markdown",
      "id": "0596803c",
      "metadata": {
        "id": "0596803c"
      },
      "source": [
        "**Exercise:** Here's one of my favorite Car Talk Puzzlers (http://www.cartalk.com/content/puzzlers):\n",
        "\n",
        ">What is the longest English word, that remains a valid English word, as you remove its letters one at a time?\n",
        ">\n",
        ">Now, letters can be removed from either end, or the middle, but you can’t rearrange any of the letters. Every time you drop a letter, you wind up with another English word. If you do that, you’re eventually going to wind up with one letter and that too is going to be an English word—one that’s found in the dictionary. I want to know what’s the longest word and how many letters does it have?\n",
        ">\n",
        ">I’m going to give you a little modest example: Sprite. Ok? You start off with sprite, you take a letter off, one from the interior of the word, take the r away, and we’re left with the word spite, then we take the e off the end, we’re left with spit, we take the s off, we’re left with pit, it, and I.\n",
        "\n",
        "Write a program to find all words that can be reduced in this way, and then find the longest one.\n",
        "\n",
        "This exercise is a little more challenging than most, so here are some suggestions:\n",
        "\n",
        "* You might want to write a function that takes a word and computes a list of all the words that can be formed by removing one letter. These are the “children” of the word.\n",
        "    \n",
        "* Recursively, a word is reducible if any of its children are reducible. As base cases, you can consider the single letter words “I”, “a” to be reducible.\n",
        "    \n",
        "* To improve the performance of your program, you might want to memoize the words that are known to be reducible."
      ]
    },
    {
      "cell_type": "code",
      "execution_count": 17,
      "id": "2a6a1f2c",
      "metadata": {
        "id": "2a6a1f2c",
        "outputId": "6264d73c-44eb-4a6d-86e4-923199c0d0ae",
        "colab": {
          "base_uri": "https://localhost:8080/"
        }
      },
      "outputs": [
        {
          "output_type": "stream",
          "name": "stdout",
          "text": [
            "Downloaded american-english\n"
          ]
        }
      ],
      "source": [
        "from os.path import basename, exists\n",
        "\n",
        "def download(url):\n",
        "    filename = basename(url)\n",
        "    if not exists(filename):\n",
        "        from urllib.request import urlretrieve\n",
        "        local, _ = urlretrieve(url, filename)\n",
        "        print('Downloaded ' + local)\n",
        "\n",
        "download('https://github.com/AllenDowney/DSIRP/raw/main/american-english')"
      ]
    },
    {
      "cell_type": "code",
      "execution_count": 18,
      "id": "b1abe9e3",
      "metadata": {
        "id": "b1abe9e3"
      },
      "outputs": [],
      "source": [
        "def read_words(filename):\n",
        "    \"\"\"Read lines from a file and split them into words.\"\"\"\n",
        "    res = set()\n",
        "    for line in open(filename):\n",
        "        for word in line.split():\n",
        "            res.add(word.strip().lower())\n",
        "    return res"
      ]
    },
    {
      "cell_type": "code",
      "execution_count": 19,
      "id": "07100ed0",
      "metadata": {
        "id": "07100ed0",
        "outputId": "5e23482f-12b3-4275-aeb5-dcc0a57a7457",
        "colab": {
          "base_uri": "https://localhost:8080/"
        }
      },
      "outputs": [
        {
          "output_type": "execute_result",
          "data": {
            "text/plain": [
              "100781"
            ]
          },
          "metadata": {},
          "execution_count": 19
        }
      ],
      "source": [
        "word_set = read_words('american-english')\n",
        "len(word_set)"
      ]
    },
    {
      "cell_type": "code",
      "source": [
        "reducible_word_set = {'i', 'a'}\n",
        "def reducible_words(word_set, word, reducible_word_set):\n",
        "  if word in reducible_word_set:\n",
        "    return True\n",
        "  for i in range(len(word)):\n",
        "    child = word[:i] + word[i+1:]\n",
        "    if child in word_set:\n",
        "      if reducible_words(word_set, child, reducible_word_set):\n",
        "        reducible_word_set.add(word)\n",
        "        return True\n",
        "  return False"
      ],
      "metadata": {
        "id": "eif6RtDfCvbU"
      },
      "id": "eif6RtDfCvbU",
      "execution_count": 24,
      "outputs": []
    },
    {
      "cell_type": "code",
      "execution_count": 25,
      "id": "1e8ecbff",
      "metadata": {
        "id": "1e8ecbff",
        "outputId": "2eb03f74-da58-4a1a-84d2-72aeb7dffbc1",
        "colab": {
          "base_uri": "https://localhost:8080/"
        }
      },
      "outputs": [
        {
          "output_type": "stream",
          "name": "stdout",
          "text": [
            "shale, norma, spritzes, ryan, gringo's, carly's, emil, granted, era, solving, mad's, stuart, boated, splits, climb, craven's, vomits, clank, corrals, dart, cline, winos, jambs, blowing, feat, marian, scamper's, driven, copra, grail, drafty, tories, tiber, farm's, castled, plank's, dyeing, creates, cremate, tint, relate, marx's, gram's, mailers, leaded, brakes, time, dado, stand, brags, spasm's, braves, mao, katie, saunas, ashtrays, mailer's, odin, plies, mall, hanky, dirge, wad's, shrift's, amidst, damon, lades, braces, leila's, stain's, shinier, palm, dim, cabs, salve, faded, pear, djinn, mills, pine's, bola's, derive, lamps, nag's, raked, olive, sierra's, lath's, dina, unit, blab, pace, paar's, draft, jaunt, flag's, arline, rowelling, espied, floats, may's, hinge, stated, gyrate, valved, vilma, head's, faxes, wads, kwan, twit's, scrams, suing, saner, scale's, pei, half's, arts, trams, stringier, malted's, skims, djinn's, wheat's, rasher's, shana's, finns, coat's, awash, prattled, apart, latter's, libras, tangos, name, hanna, sparer, haters, write, task's, canine's, ravels, nate, dead, argues, obits, icon's, sasha, lancet, france, pap's, staten's, mill, valued, evans, swing, axe, milf, swift, shrift, dis, ramos, barf, statures, raves, healer, dosage, sided, spawn's, dive, cramp, tier's, loam's, shingle, lira, mariano, reap, nite's, bang's, fang's, titus, harlem, draws, milder, mae, halt, ay, matted, marvin, scrap's, wrist, jag, laddies, speckling, tins, vasts, bait's, clinks, birded, jinny's, bra, gale's, drag's, diners, leads, simile's, gala's, deprived, grate, din, czars, ada's, strapped, slick's, wit's, aches, ax's, hit's, healers, care's, a, tingles, barker's, dicey, minsk's, cad's, aside, vial, larvas, tin's, gray, sate, miler, stacy, am's, francois, fauna's, bays, stabling, farms, snag's, colin's, divers, emil's, hag's, thine, swings, slanted, sans, prank, dais, braved, class's, sim's, lamp, ping's, sable, janna's, spoilt, unites, derived, carr's, ahab, slide's, karate's, bait, screams, aunts, picked, karats, carl, islanders, pains, bear, clare, sifting, fads, dino's, managers, yawn's, barking, loathe, galleys, tics, sandy's, gable's, akin, chirp, marbled, award's, thaw, shrank, liker, ninja's, maxine's, taping, whale's, annie, wist, pride, dora, pipers, paw, balls, gamble, sade's, chorals, tacit, mails, tracie's, brandon, stash, sprints, bash's, swears, patel, rate, sayers, payne's, janna, jamie's, dosing, spiraea, fay, shirt, dickey, slangy, shields's, barth's, adman's, wade's, tide's, binge, deiced, dante, windy, graft, galena's, acid's, marciano's, strand, candy, craps's, fare, saltiness, peiping, clashed, and, scamper, littler, raga's, gael, grazed, tracker, ewing's, arab's, lora, sinew's, barr, doing, masks, graded, sward, paar, aspired, strewing, aglitter, kid's, clash's, iraqi's, fray, fits, split's, flats, gated, carney's, tall, anion, treaty, nags, painting's, managed, payer's, adman, faces, clay, vial's, changes, bead's, oats, sparks, nannie's, things, bearding, mary, apache's, marcos, lilt's, groin's, lillian, crane, awl, maim, brando's, shatter, ufa, tinge's, panel's, ladies, speaks, canal's, meany, chides, unitas, lip's, manila's, breast's, warms, canton, taste's, maps, saw's, lasts, trina, ring's, login, parred, partied, ch'in's, cams, fax's, tier, bras, emit, flair's, bar, baited, shinny, lambed, sass, seal's, hanky's, bravest, villas, saul's, thing's, miller, marina's, clang, bearings, truing, chant, nagy, bramble's, cowlings, miro's, tabled, rapider, romansh's, camel's, maces, tiles, mae's, mantillas, sanger, starling, values, kara, skate's, trike, gilda's, stable, sired, shaw, éclair's, ramblers, sadie, bather, piper's, stash's, pans, baste, shank's, blasted, lay's, fawns, classy, jinan, argot's, tammi's, faucet's, boa, maine's, elated, faye's, howard's, owing, mangle's, jinni's, peking, snack's, stand's, tarts, hasten, sakai, sadie's, marks, cremates, stablest, obit's, bit's, vales, mist, carp's, clint's, livens, graves, saki, amble's, heath's, stacey, snaps, maria, goads, fairy's, vang's, thanks, gay, finger, wines, bassos, mast, sashay's, pita's, tim, painting, cachets, drapes, halter, milne's, mica's, groan's, gabble, nsa, email's, canoe, gal's, abided, dip, mint's, wag's, chain, thrash, skis, bowling, birds, minxes, sheared, hale, stripped, musings, pad, wearing, cameo, artsy, rwanda's, wince, marks's, maura, rant's, chimps, jam, trip, say's, grams, washes, behan's, trail's, named, clan, rca, gamin's, wag, taut, skeins, tale's, rama's, grid, cam, ila's, auks, bates, vamps, cary's, sates, kieth's, batch's, huang, pilate's, mangier, maude's, bread, land's, pleads, glance's, tittle, blimp's, caroler's, email, france's, straps, au, morals, slit's, maui's, tit, mast's, sittings, flashiest, antoine, semites, dinged, crawl, coasts, hindi's, sprain, brainy, adz's, gab's, divest, spin's, fiends, mail's, snip's, skated, gin's, plays, shack's, pearls, bast's, marin's, nines, ride's, gamin, marciano, lackey's, calms, graze's, stater, slayers, mica, argon's, redcap, silt's, fag's, papa, cadger's, marchers, parry, shrines, gash, bashes, pram, fairly, sniper, brand, kline, halsey's, baron's, mortal, chins, crated, garry, mig's, foist, ladle's, pirated, malted, francs, bering, miter's, grins, aswan, grasp's, capra's, vera's, jinn, kinko's, carped, haws, meaty, sana, skein's, mart's, mass's, irony, grinds, anita's, vaunt's, mink's, floral, axes, barer, nabs, pray, abusing, darts, sweats, copra's, palate's, pail's, wraps, tapping, lea, camper, chick, caw, rat's, boa's, dying, whist, ali, lapse's, creams, poi, scampi's, navy's, maniac, table's, stealing, starring, bail, tripled, piked, warps, flash, male, pinto, ebola's, carney, scant, drama, milk, boast, baring, lifer, kay's, sedan, stuart's, cleanse, splatter's, char, pipe, flint's, spoiling, caws, kink's, lindy, beads, blinker's, chip, margo, galleon, deli, like, laws, huang's, ace's, slider's, sprite, cleans, sphinx's, val, acres, thinks, scraps, canals, aws's, mil's, liza, limes, wrists, date, laced, triplet, pried, strain's, cram, cantor's, paining, inn's, frays, realms, wiring's, dine, chain's, spat, fagin, acrid, nita, tic, flame's, trick, chips, beards, faunas, hied, miners, canal, slitter, prayers, sims, martians, avowing, adams's, malts, bin's, tike, pitch's, char's, brinks, dikes, llamas, arias, suit's, sinewy, trash, rama, lauds, stalks, kites, barn, braked, rodin, antonym's, marvin's, planck, lajos's, sporing, fawn, axle's, blinkers, mantels, clit, bat's, came, mantilla's, trap's, goal, sedating, waned, badgers, lint, sink, grady, whit, hag, drowning, stall, scale, tracery, sprite's, acre's, knit's, brandies, fine, state, pawing, lin, gag's, aha, litter, ante's, nib, preaches, splat, bridge, wind, damn's, wadi's, mali, idle's, laths, barry's, sasha's, katy's, blimps, flames, pastry, ray's, lade, meany's, clinker, shinnied, sash's, hank, piker's, hewing, span, claret's, iran, dali's, smarts, brawny, djinns, amy, patinae, elapsed, hans, cadge, ymir, spritz, wagner, raze, growing, pinto's, payne, nat's, magnetos, am, binge's, sages, idlest, chin, glades, magnet's, pis, clammed, layers, pranks, site, lattes, hardy, catches, chewing, chives, carp, brit's, osage's, maniac's, prates, halon's, ad, bani, dragged, hbase's, marsha, normal's, limned, slack, springs, volga, scabs, grays, gauls, craters, wavy, statues, mailer, amid, hawks, marius's, emile's, timber's, gauges, cleanser's, mclean, first's, drivels, spar's, salt, castles, pigs, trapped, ad's, arty, sirens, fists, piety's, skins, salad's, pleased, smacks, trina's, letha's, minister, jinny, ina, bryant, ink, timex's, pays, peat, cable, knit, mashers, slathers, sanka, marshal, lama, stint's, saltine's, sprats, caph, archest, jags, scraper, way's, jamb, barter, base's, fine's, piker, manses, shin's, spire's, gavin, pane, shift, rasping, slice, crafted, sprains, romano, rink's, pintoes, batu, piety, kink, lancers, flare, normand, swing's, tans, mired, latch's, santa, agape's, mantel's, disk, snider, lame, sauted, sax, area's, sack's, saline's, lap, flap, rid, awol, pagers, alit, brit, mas, whiter, brides, gangs, drips, slather, sin, winked, grasped, corral, jails, batched, bray, lana's, mil, spars, charley's, parks, smiting, matte, delphi's, cameos, sautéed, regally, hui, slithery, katy, lair's, brits, vlad, statute, tracer, marshy, grains, mad, lilt, camper's, sinus, ragged, letha, aloe's, fit, lazy, tad, unite, crazed, sir, bate, leaf's, splashed, picker's, khan's, flax's, planed, scowling, vito's, whips, li's, dices, aloes, psalm, draw, ada, parsed, salvoes, diana's, dales, balled, kale's, lasso, suit, chi's, tampax, singer's, tamara's, thai's, manet, aft, string, brand's, chang, wrappings, shandy, aspires, tide, dart's, hadar, cache, zing, ways, romany, liken, cooking, anions, rays, cocking, timed, slinks, tipi, grave's, galena, barkers, manse, ratted, grid's, tasks, staple's, grant's, reid, jamel, cart's, lawn, spritz's, ale's, jaunty, bards, cape, twin's, siam, bated, prank's, drive's, damps, wanders, fear, leashed, stiles, ayes, rangers, lackey, draft's, lewis, trippe, avila, space, slicks, swathe, chirp's, crapes, bleach, tangs, prelate, signs, tile, rides, sana's, brink's, idles, coking, lad, nits, plea's, dianna's, mavins, did, marshall's, spar, bathers, primers, carpet's, laud, val's, drake, print, mars, pine, sim, lawn's, psalms's, plate's, shams, linden's, bryan's, fin's, winched, rave's, tailed, farce's, coaster's, farm, pasty, spiced, nip's, flaps, braid, mare, saunders, away, sac's, leather, ball's, chino, dips, matte's, leola's, marshals, traps, peaces, spam, barn's, thins, chaplet's, penal, sins, clinked, hip, sliced, chorale, santa's, stingers, sawing, haler, moats, dion, waded, pity's, waldo, sadr, princes, shahs, splints, gashed, razes, argos's, tamil, minds, with, omits, saluting, wash, lib's, wax, shifted, limbos, pantry, spacy, antone, beat's, mane, salines, dame's, loaded, strip's, kith's, rage, darth, opal's, leaps, bridles, stile, harped, rowing, mail, pleated, zion's, ravel, stalking, floras, shaft, vaunts, starter's, hinds, call's, antics, downing, garble, snipped, day, delia's, pauli's, camels, hindu's, drams, slate's, cabin, discuses, acids, lace's, bared, lamest, miler's, shits, morgan, fakirs, barring, islams, corals, pan's, spawn, basin's, drape, flashy, bustling, axe's, ci, flasher's, aflame, make's, ash's, camp, panty's, lara, charley, ethan, kind's, shire, learn, thrasher's, canons, sniped, lola, dimmer's, nay's, kited, emails, grafter, manic's, palled, preacher's, starting, faeces, hath, wanna, line, since, wits, raven, kalb, stifles, spark's, dis's, hiss, rwandans, fingers, clits, palaces, typing, vince's, chaplet, pict, basins, ruling, stapler's, blinds, triple's, claw's, wallis, than, whilst, grade, salem's, firsts, tame, tang's, flinty, shim, arid, primp, racers, jaw's, caroller, ham, toastier, tito's, sarah, liver, pi, fad, lanka, trikes, gins, glade's, albs, la, edam, dinah's, macy's, leta, basest, kit's, washers, lashed, bursting, lei, wagged, spays, streamed, marsh, gino, slater's, ipad's, clinkers, pride's, relapse's, stray's, wald's, bearer, dreads, crazies, castes, crates, blades, pricked, pirate, nate's, ring, gale, fared, groans, blinker, baled, khans, nat, swingers, tarim's, stalker's, id, rank's, slime's, elam's, scary, stable's, gravest, jame's, soloing, sites, carts, sax's, bane, gays, cam's, sid's, franck's, whimsey's, fay's, pates, caged, drays, mean's, llama, ivan, whine's, pat, pimps, satrap's, dire, bantu's, taxies, palace's, trailed, sierra, clatter, aboard, faint's, trance, tales, basalt, mink, eras, shrine, pius, cargo's, alba's, gabbled, sat, carlos, wheal, laos, hand's, vanes, spear, shauna, feat's, stalin's, orally, dingy, sine, lash, leila, kathy, wares, plaid's, saga's, ravens, blah, ti's, miller's, leta's, marta, whits, usage's, pip's, ranks, east's, splines, salado's, stint, health, warded, anti's, tamers, cashew's, prime's, bravery, sparked, alien's, abashed, scare's, placid, priced, ran, swaddled, client's, tangy, alone, taxi's, grate's, nil, pinky, czar's, ewing, meghan, petal, coast's, gavel, farts, splash's, foray's, fahd's, marcy, iraqis, canon's, bear's, tines, whaler, chan, woman, mao's, sit, cheat, slicer's, this, kilt's, larches, ac, marla's, drives, spinets, bleach's, gate's, splash, gang's, ha, roan's, pits, carole's, haulers, halo, clamped, mash's, jinnis, milk's, wager, dings, spinx, evan, writhes, hays's, a's, sawn, romanov's, piled, jannie, swearing, steals, ikon's, daunt, liked, salads, hat, wiring, fran, wings, mia's, tiers, dived, flashers, larva, haley's, jaime's, steam's, silvan, pabst's, singers, crafts, nays, pointy, oliver's, mange's, haloes, wadi, maw, lilian, shiner's, kilt, elapse, yale's, gnat, bids, bolas, scarf's, adams, sprayers, rearmed, white's, lances, gambles, grable's, fiat, tokay's, nora's, loathes, baath's, crowding, spacey, taunt's, waiter's, rae's, pales, sago, weaned, loin, bided, fall, maratha, stir's, carollers, dewayne's, mindy, flared, carnal, clang's, la's, spay, kali's, ministers, flays, taunts, paps, pedal, mariner's, starvings, mayor, pastimes, plaids, pad's, scar, discos, lagos's, abases, wage, whales, lather's, manager's, spitz, maxims, singled, ito, dale, frank, marcia's, chants, pitt, chad, chimp, tire's, deicer's, caroller's, bale's, blither, ale, ace, points, claire's, seating, statute's, sail's, caps, pleaded, stain, slag's, sagest, primped, prig, asp's, brays, shtick's, clarke, grandeur, loam, mat, dins, shard's, strain, sepals, venial, parleys, rage's, stalker, whims, halo's, mangers, fridge's, spiting, lilia, tablet's, china's, taine, mci, aliens, slickers, bradley, raged, anons, stings, cowling's, bawl's, bragg's, skits, leona's, maui, dives, airlines, muir's, loamy, leathers, inge's, keith's, health's, ishim's, maximal, bathe's, twin, irma, loin's, hastens, rwanda, poi's, east, snag, maxim, ridges, oral's, swat, leanne's, madman's, marco, whined, pita, carey, latina, tale, chatter, stale, panes, kidd's, pasted, stage, dada's, spank, side's, gray's, coaches, taster's, least, plain, ah, lina, craft, meier, sifted, gasping, selim, wailed, harems, raiders, clime, flab, callas, tarot, fussing, shah, swath's, grain's, lingers, briana's, id's, fast's, smack's, sliders, clip's, tingle's, amd, stampeded, scams, estates, travel, marine, snipers, daemons, gravel's, nagy's, lad's, marci, value, flatt's, hastes, dam, mandy's, dime's, mariners, chino's, liszt, milo's, towing, taxis, valleys, cains, ant's, nip, tail's, tina's, okays, maura's, spring, jawing, pawns, isms, nantes, cares, platter's, spriest, franz's, mace, marine's, bantus, crazy, kay, saws, mill's, sidled, clarets, charts, orval's, olive's, nay, navy, primps, pecking, sward's, manilla's, fates, lite, dates, scares, paine's, chairs, piss, catcher's, basics, ora, jam's, bathos, waxed, lila's, graves's, pay, saltines, ola's, pasty's, meier's, spite's, rashest, lauded, oval, haul's, wagoner, wagoner's, thais, threat's, gracie's, shamed, pang, sting's, scrawls, discs, mine's, tinge, dawning, gallery's, cline's, scanty, brassy, glad's, springy, spearing, sics, evans's, ann, foists, beat, smites, pig's, is, thames, audra's, halved, flashed, party, tiara's, edam's, gayle's, smithy, pink, unit's, ballsy, call, wang's, dreams, iso, behring, smith's, barters, baath, tine's, slants, carrier's, peak, goals, bird, damion, staling, meat, spire, driers, stockings, pithy, amble, gail, witty, warning, striped, scat's, aida, graces, lister's, meagan's, lila, sweating, wadis, hip's, ganges, groin, mann's, ante, starters, aryans, vane, packed, gage's, pshaw's, karma, pier, okra, granges, larch's, dated, lamaze's, dianna, calif, argos, tract, chic's, bag's, manna, clips, parity, anted, labs, davit's, awes, flea, joann, cadre, salt's, clit's, bantu, wayne, stalin, mask's, rafted, clear's, pair's, flay, slashes, using, amoral, scarves, chap, djinni, marty, hay's, vlad's, grape's, lena, cranes, farces, drivel's, caped, client, tildes, chocking, dray, stories, liszt's, bridgette's, abates, primer's, iron, bars, manx, liza's, bastes, brands, dined, mitty, stalling, startling, ware's, cream's, grapes, maids, jaime, canoed, shins, scarfed, piercing, asks, blimp, latches, stapled, fade, inca's, pansy, alex, coat, adze, plath, dianne, ado's, trim's, salves, tic's, alike, hanna's, oath's, slacked, liars, peace's, basis's, liens, warping, lags, staring, beady, meats, stack, mable's, hilt's, sufi's, pitt's, peary's, ba's, shank, crowing, malt's, shield, dread, glint's, grind, grace, tamp, marlins, marker's, dandy, avoids, wags, gay's, barfing, care, bragg, dally, islander, flan, neath, hives, slider, spinet, whines, spike's, stalkers, spinx's, pena's, bank's, meade, badger's, barron, shanna, cabled, barb's, marcos's, sparkling, olga's, tittles, sag, raping, busting, hals's, nips, thing, deprive, suiting, hang's, paged, ado, snap, shady, shanna's, karate, chowing, switch, bathe, finders, jaunt's, disc's, ac's, clasp, volga's, yaws's, mania's, paste, hairline, erna's, romano's, hans's, pacts, martian, loire, flaw's, mashed, capet's, like's, craig, mines, passé, joan, i's, pipe's, erma's, pass's, cannon's, pal's, waggled, hawing, ward, lama's, schtick, tails, kali, cargoes, fangs, bailed, martha, haynes, di's, brave's, aida's, scraper's, point's, gamboled, lined, pilled, smarts's, lead's, sign's, bail's, chaste, wart, nix, tamera, reaped, leap's, gladys, sancta, schtick's, skin's, carpet, unities, wage's, half, law, device, smashes, deanna, clasp's, gallon's, sift, brandt's, learns, cracked, change, twinged, flies, staid, tact's, restates, carps, sitting, hid, laces, vine's, edams, hided, twitch, frances's, farted, flier's, blaring, trick's, baden, widths, grasp, lapsed, ezra, lire, aldo, wrapping, inca, anon, singles's, lesa, anton, alb's, bract, tia, yaws, jargon, leanna, zing's, moan's, pam's, gyrated, bast, trance's, galleon's, charms, aligned, teats, lady, heath, sagan, blamed, caplet's, micah, valve's, farmed, masts, tingled, asp, dimes, pager, darth's, head, shitting, livery, shared, romanov, briana, tamped, links, lawyer's, tripod's, niter, lira's, ca, single, fray's, siren's, grazes, coasters, stats, aws, shields, llama's, sprain's, map's, parsec's, stewing, cars, damp, lift's, mitty's, slacks's, linear, dante's, amass, flanks, spas, daft, dimer, cowing, thrashers, float's, aim's, grable, scar's, bearer's, liras, gino's, pea's, stag's, trace's, barred, aids, alex's, diverts, minces, heated, sparks's, twilled, shard, drowsing, spewing, cantons, mats, maker, tames, bewaring, malteds, braids, tied, anti, gravely, healed, splats, tax, dip's, prized, van's, dying's, skiers, fate's, fink, pilings, plans, latin, flora's, leach, meir's, talley's, slowing, paled, thant's, rate's, gaping, blamer, gestated, wants, pilate, lab, loath, orates, drawn, aslant, arenas, play's, cantu, thin, amp's, slayer's, alana's, nap's, stoat's, winches, narc's, liz, sluices, hanks, dime, tramping, dixon's, basel's, hatter's, timex, prelates, showing, scheat's, piercing's, splat's, hauls, pam, dream's, stairs, marian's, norman's, pawpaw, bearing's, maurine's, ornate, fist, marlin, gambled, gravy's, vance, fainest, latins, satraps, trashy, friends, pauli, flat's, shirts, paints, sal's, castle's, sparser, gags, hash's, glean, alive, palace, clay's, craven, swash, pate's, stingy, gravelly, cheated, parsley, writhed, lorena's, ana's, ago, chaplets, jeans's, blind, hayes, bleak, steamy, goat's, diner, please, gestates, kiddo's, single's, paired, dowries, rail's, lassos, cannon, avast, piling's, emirs, splicers, dirge's, mariana, nash, awaited, tilts, toady, range, stalk, emile, oinks, trails, clamp's, gary's, pirates, ruling's, arced, vamp's, damsons, gauge's, wander, spawns, disco, shana, minot, mate, spams, johanna's, dashes, mains, mandy, sweaty, tanks, capek, barr's, finks, taxied, shafts, campy, barber's, sing, cadges, crag, deicer, hahn's, pair, dead's, barron's, inns, argued, hats, prince's, driest, fran's, sander's, scrawl, mari's, stag, crave, spline, sifts, pict's, bland, haste, gauged, acted, scarce, finder's, amir, grab's, rinks, nail's, lear, marts, han, dashed, beans, sank, broad, mattie, bridgett's, pleas, swath, piercings, whams, mewing, champ's, math, boar, mayors, airline's, spine, arc's, glitters, bayes, spiraea's, danton, smart, lapps, smithy's, chat's, staples, sally's, stamps, sac, title, that's, deli's, lana, pilates's, skier's, starling's, lindens, scampi, draped, devices, camry, parted, faucets, orate, slitting, tie, lacey, shingles, parka's, toiled, corking, sanka's, swathed, saran, swines, charted, sires, pathos, tracie, nib's, wasps, hinged, elite, linda's, twist, starving, sewing's, delphic's, bridge's, gyrates, laden, mans, ails, gael's, skimpy, clanks, fares, scan's, bite, pager's, jays, wins, johanna, lisp's, korans, swinger's, priam, swashed, odin's, wheals, limed, boars, gals, parried, plowing, cato, fargo, team, leif's, yawl's, leann, lithe, lilts, sparsest, maoist's, dickey's, hoards, ting, kidd, pampas, placers, elam, wring, grand's, flit, yam, least's, carla's, discus, panted, hauled, palpated, flail, capet, bind, basil's, plane's, spat's, toking, crash, had, staler, airliner, lilac's, pshaw, bidden, grafts, gains, harm's, spitted, tray, swine's, diked, malt, gloat's, maid's, stoats, add, shine's, hie, wartiest, martini's, delia, pines, blind's, paid, grade's, malta's, pleases, slap, skid's, badges, blip, shawl, acts's, koran's, healer's, sir's, snide, iraq's, haft, wilt, mitts, handy's, ate, islam's, sables, aye, stamp's, brag, liters, mars's, splint, seat's, zions, tan's, talley, caw's, rapid, padre, mainly, cant, taft, gavin's, doping, peeking, load's, rios, shames, parr, lancets, manilas, avila's, haley, loads, flit's, threat, martina, paces, vast's, calm, sands, adana, singles, cared, marshall, hearst's, cora, marshes, jinan's, opals, range's, romans, lillian's, trip's, maori, par's, milers, spates, dwayne, clamps, shifty, scram, hatter, levi's, gallo, lather, sparest, priests, minded, pitts, plank, lamar's, finest, claims, thad, scales, sal, clams, kilts, gall, grape, emits, maya, aid's, mann, mite, marcy's, rats, crackled, brat's, mites, fannie, janie, king's, capped, bails, norad's, carl's, aunt, boar's, scanned, art, lairs, capek's, that, asian's, heal, flail's, margin's, taxed, vance's, carbs, scat, smash's, hatred's, zings, stalls, play, caper's, violas, tilled, stolid, hints, smile, fliers, brandie, mali's, leaden, trashes, scam's, liver's, cravens, salts, fair's, travels, hits, adz, tramp, sidles, spilled, eat, sluing, gain, san's, lara's, far, manger, hated, manet's, titles, wanes, veal, maxed, levi, amway, garb's, spasm, caster, gaged, gal, anal, gail's, allays, airliners, ma's, haired, trace, army's, stan, braid's, pall, drawls, randy, graved, thant, wariest, faint, camped, mash, strapping, spiny, page, garbs, dali, basho's, discuss, alines, whimseys, galas, vast, tamil's, normandy, gaul's, tarot's, obit, razzes, snail's, singes, slaw, claws, pabst, trays, stream's, tass's, prickled, maims, bat, stinger, shtick, norad, chair's, shies, showing's, waits, cobras, pliant, waders, verna, snacks, gasp's, cap's, writ's, diss, nannie, spam's, heats, roans, dims, swine, ladled, trims, brianna's, barge's, kale, nix's, chant's, fusing, banks, lime, blames, pant, sham, grander, odis's, brave, dike, treat's, shires, martini, claim, scarfs, winces, lift, sparred, barrings, hind's, mire, crafty, margo's, rattled, spinet's, mortal's, gage, gamay, dint's, flags, bandy, busying, blasts, t'ang, grafted, sang's, pitch, oran, ashamed, broadly, slates, jean, mary's, stacey's, spray, soling, specking, man, i'd, aug, kilns, made, franc's, suited, placed, swaths, axles, await, valve, mara's, bali, sire, galleons, siren, boasted, rangier, board, leda, amir's, saline, sprat, erased, belated, sims's, cached, jamel's, roman's, slay, mantles, peak's, castle, camp's, beach, bryan, hearst, ravel's, delhi's, ufa's, garbles, las, suites, marie's, vats, moire's, opal, tingle, tike's, skewing, glanced, faxed, caper, jan, hater's, paula, jaunts, ebay's, eking, aspire, whiten, cart, tansy, padre's, spare's, tank's, carolers, eraser, blank, slacks, kiln's, seward's, hags, sepal's, planck's, linked, amd's, sling's, bawls, triple, whale, pints, wagner's, drinks, ninjas, mir, boas, band's, linker, milo, drape's, hindu, last, plain's, campier, mind's, allay, status, mortals, fainter, slicked, skip's, scrape, shined, garbled, bassi, snails, wowing, scars, mariano's, laura, swain, act's, breast, mable, jag's, leaky, finked, rare, jay, mindy's, clair's, crater, marion's, marva's, splint's, elite's, largo's, lacy, ipad, harley's, sags, blame, shaw's, grader, napes, paige, grafters, jamie, pith's, paley, slack's, bank, vaunt, brads, aral's, mavin, hazy, pasties, kiln, brats, petal's, seaward, joanna, ramble's, shiny, ram, leah, ra's, cheat's, seats, tamer, casters, slide, catt, orange's, thrace's, mckay, mazes, sic, lapse, zit, thrilled, chan's, moans, planned, swags, ague's, placer's, na, slated, nacre's, swag's, miro, awing, grater, gloats, dinners, slicers, fawn's, tagus, placer, nolan's, amazes, paypal, writer's, fins, riot's, magnet, yams, hague, mind, tick, oates's, live, weary, aria's, grind's, clipt, hoard, davits, patchy, slip, margie, ids, skater's, stroking, brat, charm's, marco's, sacs, pangs, hank's, anthony, triplets, omar, nibs, washer's, aline, sluiced, rambler's, cobra's, norman, kin's, pawl's, ski's, tiara, amazed, mira's, slinked, barbing, scan, mcadam, blister, map, swathe's, barns, asian, incas, atria, hike, coats, pickings, spices, wabash, tan, erna, stature's, yeasts, mangles, lanai's, madame, rares, prices, franked, peals, twits, ina's, frail, swarm's, loiter, ni's, wanton's, manics, liefer, stream, medan, litter's, swims, twine, faun, ride, aol's, blushing, pile, naps, heat, wages, tia's, sashay, rapped, hasted, liter's, rash's, splicer, tank, chastens, tara, shinned, caplet, prated, tarots, tipis, moral, jain, ay's, era's, tads, warns, minot's, grasping, blared, login's, pin, glitter's, cadgers, divests, tip's, taint's, disco's, whit's, tilt's, gnashes, nola, plaid, colas, lea's, bash, glad, organ, micah's, lives, marple, casks, swanks, it'd, vials, cat, pals, rap's, meir, make, timbers, madam's, feats, payers, rapids, franks, barges, spahn's, rant, shags, oink, liner, swards, shim's, oscars, audra, chapt, francis, any, act, bins, varlet's, maud's, hals, leaf, manager, ikons, darted, scads, crapping, nan, climes, nam's, if's, morally, taiping, fated, craze's, him, madams, carol's, licked, tally, derives, mays, flirts, chopra, dramas, slimy, ming, chide, craig's, pantry's, marin, aural, tides, vernal, palmed, weariest, gas's, fannies, harsh, kid, harmed, race's, dousing, graze, zola's, parr's, cain's, drier's, marcie's, striker's, man's, vidal, waist, reaps, doing's, oranges, simile, face, vaguer, acme's, crawls, plate, brain's, marsh's, curate, tracers, tito, pinned, vain, lib, delius, haled, daunts, slash's, annex, mashes, ebola, pith, blade, knits, peaking, cantu's, vines, stampede, waddled, panty, shat, flax, platte, pawpaws, meat's, lind, toad's, tripos, ache's, bushing's, salk, bridle, drink's, mister's, palmy, raw's, cowling, bran, hilts, ashy, antic, dora's, walls's, amaze, champ, jana, flag, cage's, twang's, mantle's, strip, tamest, hearty's, loiters, bragged, nam, gram, spade's, jeanie, clap's, ranted, hail's, chanty, heads, friend's, chang's, toady's, raided, twinge, twangs, argosy's, tracy's, frats, stan's, vamp, pint, gala, meanly, wasp's, faintest, verona, in's, drownings, toasters, war's, shall, loathed, ski, fags, cleansed, delphi, clean, pig, plants, slat, plied, flatt, brant's, tracts, sane, boast's, mig, inge, rearms, late, brady, gallon, peas, wane, bleats, moira's, bloats, pikes, mills's, alien, pang's, meowing, hall's, link's, winded, want, mousing, path's, mi, helena's, treaty's, conking, shammed, evian's, capulet's, unfits, lions, rids, madge, ringo, zion, lien, laura's, clear, landed, swash's, skirts, cargos, hide, lacy's, hails, dvina, micra, amy's, laud's, cap, trances, pinning, basted, sale, gnats, crate, spears's, acne's, faust, drink, bags, lathes, sicks, tilde's, bloat, riders, chive, peaks, mania, jams, tag, lethal, pin's, wait, haunts, caret's, spahn, hatters, drank, taine's, jeans, seated, cameo's, bides, manages, coast, bark, valves, ream, strips, baird's, useable, arch, tamra, spa, pickled, heater's, winced, bean, parity's, wasp, bade, bidet, orange, livers, drowning's, rashes, raggedly, clients, mani, tams, harm, dad, araby's, sandier, cadre's, elena's, blink, leases, pars, eats, twang, tam, means, raw, hal's, taunt, lean, spate, ward's, martian's, flirt's, sable's, aol, pasta, dash, halter's, apace, janet, platen, pined, madam, solids, tinged, haft's, drawl, partly, irate, pearly, snip, oat, tilde, karat, laps, schick's, bath's, glass, koreans, scalped, sui's, ba, mcadam's, mane's, stink, wail's, bridger's, aid, sings, mavin's, alley, starlings, martyrs, flairs, point, aludra, pips, if, tings, slit, verna's, foray, car, raped, sprites, players, alias, trappings, pawning, nolan, slits, skein, parsec, patch's, start, braver, snipe's, thad's, fart, mart, shauna's, camus, sago's, taints, palpate, whiner's, amorally, tampers, usages, skaters, davids, brings, lajos, minsky's, chasten, fail's, hat's, marge's, bites, cards, rangy, wears, milker, wino's, hiker's, pamirs, crags, daley's, hive's, sparing, twinge's, gaps, mate's, papaws, bowing, ladle, vidal's, twins, fear's, pipes, manilla, evian, maples, gambler, earline, spain, grin, hasp's, splittings, gamey, barged, chinks, warn, razed, kathy's, facet's, blink's, villa's, rape, lam, starter, gin, crank, fink's, owning, seals, normandy's, campers, tammie, agates, parch, ion, bearing, rain's, davis, stack's, domingo, dray's, brad's, lain, disc, gamines, antonyms, diver, wearying, fined, tail, roan, andy, maize's, walesa's, trail, mange, trim, bang, par, leda's, heather, semite's, chit's, carey's, sui, alloy's, writhe, bears, dad's, lag, facts, moat, liar's, stales, heaters, fridges, tango's, badge, stripe, whalers, limb's, crape's, writes, lay, sweats's, charmed, maya's, slings, shame, wheat, ios, pinking, board's, cleansers, lace, ani, sacks, bracts, pries, skin, barging, dash's, sticky, stilt, splitting's, cagney, caned, mays's, teams, colin, mussing, racy, elates, dries, beard, pleats, sinews, lamb, mire's, hikes, boas's, sidle, mid, cannons, diver's, spiraeas, pshaws, frank's, leathery, pimped, pricking, marcher's, smit, martina's, olav's, marches, chatted, mistier, van, romansh, stabler, grange's, gracie, crate's, wait's, brambles, choking, slat's, small's, blacked, satrap, gonad's, limps, paul, trampled, spites, joking, aldan's, many's, yawns, says, olivier's, silt, singh, dream, ping, shards, dines, ginsu, cawing, nary, libra, lassa's, lame's, liter, ink's, ridge's, wary, ali's, prizes, crape, pale's, heals, flaky, shacks, emir's, pisa, site's, marcie, cara, chive's, pastime's, sedated, tran, liliana, carat, feasts, vital, roams, binges, rasps, chit, nash's, slicker's, acme, zola, gavels, ham's, olav, bearers, bead, prate's, seine, caplets, gallops, sluice, all's, tracey's, livery's, travel's, mattes, sways, damn, splitting, chattier, tango, harem, dinah, hatteras, ram's, pity, avid, usage, lao, cask's, dike's, nap, list's, rarer, cranks, tidiest, gallop, patch, banes, trios, tamra's, bean's, dewayne, flirt, brash, salk's, hindi, hearty, stingier, latte's, digs, mead's, misters, vila, shad, barge, whats, iron's, link, orated, behan, creamy, cramps, prickling, paw's, limbo, value's, hannah, brandy, spilt, mario, adam, area, tami's, hail, peking's, blister's, morale, brain, kings, plant, leary, martinis, breads, lathed, cadres, finer, chid, sian, scarf, singe, busing, minster, stamped, salting, lamar, minsky, slime, device's, dion's, span's, camel, dozing, march's, hilt, keith, bleat, brawls, haw, timber, frances, finish, stifle, ants, smack, papaw's, hinge's, skirt's, ague, psalms, elena, yawning, moran's, hearts, priest's, peale, jargon's, pleat, drivers, waite's, stolider, abides, malls, finn's, warp's, sparking, planets, bradly, trippe's, grants, taxi, blares, past, dado's, toads, slices, keats, manx's, maud, clinker's, streams, stilts, fable, capulet, hint, barbed, shifts, raced, gash's, hates, statue, fates's, stage's, rat, manage, whither, carla, archer's, idler's, harem's, thanh, wang, harms, past's, sporting, skit, chantey, markers, pimp, kinds, finn, carlo, flint, scad's, wink's, trueing, card's, ages, megan, writhe's, janice, realm's, trampling, bridges, linen's, time's, archers, flatters, scarred, atlas, ales, taste, pate, lies, caph's, face's, parched, sprayer's, lapp, prides, gonads, pit's, sway's, parkas, prize's, paths, teat, panel, stains, scamps, milfs, fail, tits, sagan's, stringer, pats, hauler's, rabid, villa, nita's, brake's, moussing, marissa's, wale, splashes, manège's, rapid's, liners, chatter's, papaw, canyons, skid, piking, di, trying, salved, whites, trio's, related, cremated, haloed, bussing, tire, bather's, mined, wilts, dina's, tipsy, lacked, drip, chanty's, walls, dijon, banns, cleanses, ant, craziest, hides, crap, likes, mayan, hawk, scanted, manic, wars, rarest, leapt, faunae, shade's, cable's, manly, wine's, planked, fiat's, sips, planted, woman's, dingo's, taster, slice's, shads, stampedes, grasps, price's, shades, vitals, tramped, priest, mari, latex, prided, chinos, strays, laddie's, mild's, palest, nites, swan, galley, blade's, cramped, bass, pared, aces, spit, amps, rapping, idea's, raider's, lames, canoes, dada, army, plates, alined, oath, spirea's, sinks, smart's, strike, calif's, martyr, laid, sheath's, hatreds, fast, icon, rash, maker's, bread's, lancer, charm, ranger's, hafts, sachs, rinds, zara, plead, plan's, clap, gravy, slips, fat, platter, limbo's, prig's, leis, bases, chorales, pearl's, rave, grad's, ashed, limb, barbers, rally's, aura, jami's, wrap, francoise, states, suits, ass's, papas, pa, twit, ming's, maoris, carats, iran's, ambled, malta, heather's, his, cachet's, sing's, team's, parks's, cali, marianas, brace's, manes, cad, stray, parish, chits, warm, salem, fair, waite, tract's, tamed, leif, pearled, arm's, jami, fawning, si's, change's, smith, psalm's, lamp's, ail, races, collin, mira, tips, raven's, waist's, jail's, ashtray's, card, bramble, sid, start's, handy, trains, bath, smiths, leanna's, thrace, coral, matter's, apaches, hike's, layer's, moran, nikon's, petals, franco, neat, wader's, lean's, scheat, aryan, path, parts, twine's, tami, nit, whim, sirs, karla, alpine, leah's, cads, bird's, lion's, fain, haul, fa's, hashed, hate's, caster's, prowling, slicker, shire's, maniacs, hatred, cairn's, alb, in, tinges, drip's, caste's, halves, slain, corral's, spank's, beast's, isis, blank's, dame, juana, brandi, mass, olaf, fag, viola, skips, lela's, trips, wine, sting, rang, leather's, annam, groins, minks, gravel, lion, barton, vera, heard, deices, mister, coaster, biden, spasms, larvae, rankled, swanky, pea, chat, yawing, redcap's, dana's, magnets, drama's, stank, isis's, swat's, tribe's, hint's, rambles, caret, skimp, latter, ism, chatty, skids, stamping, marinas, chaps, tint's, shanks, cantor, amaze's, dolling, chimp's, bah, cab's, hearth's, misty's, reams, tracer's, stating, drafts, lister, aloe, chap's, lease, bridges's, slant's, win's, pie's, stilted, whinier, steward's, flares, slander's, bare, aldo's, peal, marge, united, gilda, cadged, choral's, diced, tart, brandt, barth, slides, rails, cables, redcaps, bradley's, bray's, stir, pastry's, threats, lawns, pit, latte, sprig's, lance's, shield's, brasses, lease's, sties, staled, raid, mara, leased, gnash's, awnings, wash's, zits, craws, skates, trike's, hive, slip's, wrapped, gag, painted, slant, cara's, heart, jaws, lapp's, pikers, alley's, areas, male's, warts, cask, sanders, flattery, halon, curates, tass, lindy's, scab's, dosages, drag, halts, manley, clark's, din's, flaws, hale's, aldan, lind's, brandi's, dino, alloy, recap's, hall, shriner, garbo's, clatter's, canto's, sades, think, varlets, divan, omit, bathes, marple's, lass, amp, twaddled, finny, snit, limp, hales, kinky, brianna, cray, diverse, lorna's, braided, spike, marci's, stages, maurine, salty, sashes, libra's, date's, gabs, lands, ara's, ranger, width's, milks, verona's, varlet, pedaled, flaw, sera, picking, paintings, pinker, pint's, saga, cheater, claret, tricky, gamely, grands, maize, addams, greater, spaded, nora, carlo's, sassy, shawls, aide's, bleat's, erase, units, mead, leanne, jeannine, spitz's, gamine, six, galley's, chorale's, triples, sheathed, spits, skit's, canned, kiddo, places, crooking, ides, patine, boasts, meade's, crab, smashed, yaw's, nail, ramps, chaired, kith, meant, moan, rings, scarcer, gila, normans, asides, mar, pale, tang, bran's, skip, irony's, pail, sara, lats, pastel, pads, chats, clink's, kraft's, string's, emir, child, ma, aim, milky, lanced, mai, swagged, wino, lina's, restate, hah, roam, casts, life's, palates, adze's, sivan, rain, pails, sinew, silts, david, vat, macy, racer's, traced, martins, rasped, vaping, inks, rasp, gabbles, kmart's, salas, wades, sating, craves, alba, pirate's, juana's, thatch, balds, lilian's, delis, kate, hi, swans, showings, adan, maligned, callous, spite, hang, mangle, lab's, speak, pawpaw's, triplet's, nile's, rios's, craft's, scald's, basis, elate, into, franks's, finds, gaunt, barfs, cadger, abreast, pilates, timer's, aged, find, graced, wale's, crazy's, croats, pike, amusing, larval, adzes, mortally, chi, tired, tripods, cid's, scrape's, maxine, craw, silting, antes, largo, marines, slaps, linens's, parse, arm, malone, miles's, meghan's, wart's, clan's, bad's, strings, main's, fang, catt's, vba, mix's, whip's, opines, grange, nape, barton's, wring's, goad, leash's, all, diet, lived, flip's, barbs, dish's, twined, slim, plaited, chink, awaits, reaping, avoid, trapping, discus's, carets, scraped, sparring, swift's, barest, bid, flips, flap's, chin's, prays, shit, canes, cheap, franc, pastel's, taxes, pawn, damson's, award, canto, sliver, splays, recaps, planks, acts, title's, gamble's, mci's, winds, bits, olin's, radar, kits, restarted, okra's, estate, goad's, shriner's, agate's, afloat, tiber's, saxes, kiddy's, tags, brandy's, palls, paste's, spooring, oat's, dawes, gables, wanton, scare, ism's, smiles, manse's, hiked, gamblers, carrie's, changed, paine, rider's, twain's, hadar's, dana, kant, snipes, cachet, tided, daisy's, aludra's, axed, latched, blast's, boards, carvers, dint, rared, goats, binds, brashest, sara's, lads, shatters, hand, gina, want's, auk's, bryant's, tablets, hardily, skimps, drains, later, heaths, romans's, lapses, tripe's, lesa's, stags, nag, abridges, it's, lackeys, wink, state's, haste's, delphic, flab's, snipe, leas, ashen, hikers, sean's, semite, gap's, pearl, capers, laded, rag, scants, wind's, marched, batch, warders, hatch, alana, planet, deice, bride, hired, clicked, soiling, scream's, halest, lists, tracey, oman, oliver, ti, piper, alas, hera's, craned, basho, wafts, ashe, roweling, cab, zany, spins, caries, tart's, kara's, chapped, wilt's, cans, damns, saki's, car's, scrawl's, cannes, mayans, sliver's, leap, fleas, rapt, stay, marble's, sis, idlers, clive, tat, wanda's, bag, stacy's, ambles, glassy, cary, fasted, mean, lilac, minted, seal, t'ang's, pap, agni, lieu, papal, clime's, win, mitt's, forays, hoard's, radars, latino's, ray, ranked, alice, tidied, baud's, theater's, ruing, manna's, manège, lang's, nikon, mires, sprig, spliced, canyon's, died, anna, scrapped, gates, kathie, raved, tick's, seat, makers, tit's, fargo's, mushing, whaled, scab, hairline's, shaft's, livest, bite's, peaches, mantes, amirs, slats, chad's, agnes, inn, finger's, chars, realm, princess, ties, ashe's, bask, fad's, shims, carries, baa, leary's, cleanser, lice, ball, breasts, pears, plant's, sheathes, afar, marry, hips, tittle's, hared, fasts, sass's, said, twist's, chantey's, tastier, carver's, lilia's, antony, karat's, tripe, spires, valet, mils, sauna's, ridge, campos, pace's, carriers, mayo's, brindled, pasta's, shawn, lathers, flatter, paris, aryan's, wader, gain's, li, au's, marx, gallo's, rams, fact's, whimsy, slating, first, latino, kiddos, minister's, ding, blips, dido, staged, diem, carpus, canted, flamed, warder's, dories, haunt's, kaye, stripes, smite, madame's, dam's, tammie's, ass, ached, argo, mints, splay, vowing, blame's, stript, jeannie, wayne's, stapling, radar's, araby, satan's, halt's, gowning, pieing, peace, pei's, faucet, morale's, vale's, gagged, create, hinges, organ's, curate's, doting, started, aura's, spaces, remit, diss's, gate, nil's, cargo, wrings, aims, craze, saunders's, stifled, kieth, clawing, grads, mattel's, was, median, venal, scad, crashed, chirps, silted, grader's, marianas's, spin, stalest, slash, iraqi, sang, staplers, prelate's, snits, patsy, adar's, larch, scrapping, bands, palate, snap's, prints, flank's, tricks, slang, kant's, strands, drivel, nape's, tally's, baby, lead, cache's, learnt, olives, yeats, plaice, catchers, fails, vomit's, swatch, linen, barons, stature, nan's, blabs, hearths, banks's, dads, oval's, caroler, wing's, rwandan, dingo, groan, maple, slinky, saluted, marissa, warring, pat's, singer, narc, tact, lassoes, dig's, name's, saltine, abated, cain, stoking, may, estate's, iago, scrapes, max's, stints, lifts, mild, ladles, flowing, carver, tram's, caste, collins's, panels, slams, brant, islam, shiner, flea's, shah's, flora, perking, shirt's, peal's, dearth's, raid's, dix's, lag's, vila's, nina, califs, marion, dijon's, sham's, twinges, dowsing, pinged, sits, stocking's, ian, vale, taint, logins, damion's, gad, piping, ads, eli's, piles, gauge, bard's, wagoners, testate, bar's, adana's, claps, spring's, carpets, cray's, milkier, gallop's, ting's, matter, barb, print's, broad's, glads, masher's, aside's, wail, normal, satan, pastes, haas, troweling, acmes, plaint's, stick's, sparse, males, schick, clam, swim's, norma's, whitens, slanders, splicer's, crab's, band, cats, bit, salted, flare's, lance, larded, wax's, vane's, harked, adam's, aria, chains, dried, ramble, spans, mangled, barter's, awarding, yeast, ch'in, narcs, tracery's, swag, glib, lied, calls, tilt, warding, clink, liner's, sprigs, hay, bride's, boats, davies's, smile's, peale's, sage, sire's, paint's, stacks, trap, solider, boring, lena's, fakir, ship, aug's, prawn's, drain, liliana's, spared, blip's, parsecs, bra's, limp's, storing, lorena, pena, aide, part, fiend's, scalded, stile's, seawards, rally, baud, spare, kite's, whiner, crams, kit, aping, moral's, apt, lax, eliza, dinky, magi, hatted, primed, glance, gleans, fan's, cash, liz's, bin, olivier, sager, lora's, shawna's, aye's, spa's, gestate, traces, ban, morales's, bridget, paler, antis, grafter's, airline, gringos, selena, rafts, theaters, tastes, wiriest, spitting, antonym, fall's, cage, singh's, davy's, lisp, liven, pal, paws, hies, lips, rates, bradly's, scam, baal, brandie's, gambler's, bares, median's, lawyers, kraft, kalb's, ions, oates, steamed, brass, suite's, tammi, pawn's, shatter's, lamaze, tramps, picker, cairn, fannie's, lit, skim, argo's, satay, leola, ranges, padres, marlin's, gamins, really, morgan's, plea, aral, slivers, coral's, spares, thrash's, hire's, al, relapsed, heart's, leaks, cashews, bridled, brawn, pimping, ash, slab, shale's, an, pain's, wagers, basic's, hams, maced, cola's, brian's, leach's, pickling, okras, clank's, minty, davies, shalt, ovals, skim's, place, cairns, gnashed, crawl's, slang's, tidies, atria's, ally's, grabs, ana, bass's, banal, cheaters, jeanine, racer, gambolled, winks, bridged, leashes, gaul, snit's, rag's, toaster's, hasps, waited, stands, tray's, linger, collins, wear's, agra, basso's, parsi, tarim, tine, matins, likens, drake's, grain, badge's, steal's, jane, able, walsh's, tram, marla, clasps, schticks, sprays, hart, aurae, haynes's, bales, diem's, tipi's, divan's, pawls, bidet's, shane, skied, linda, cabins, carded, hater, diner's, saul, dive's, swarm, piing, graven, parked, callus, doings, leash, gayle, train, marty's, heat's, brandon's, wald, pear's, kiddoes, similes, striker, pipping, vba's, salver's, sian's, pedal's, facet, pa's, gas, sade, clans, swatch's, sash, matt, yawls, mitt, white, wane's, dams, ora's, twain, mix, tip, wing, spit's, list, ships, lagos, leans, shade, fare's, fa, party's, tats, chopra's, as's, spark, fahd, maori's, brace, warming, erases, bridgette, jail, warnings, viral, parry's, rca's, tribes, korean's, clocking, dram, eraser's, fin, lie's, platte's, chicks, marina, waldo's, rico's, airliner's, snack, stine's, fliest, primping, palmer, matts, ra, baird, blair's, lards, oran's, hearth, brady's, raft's, wallis's, grant, shingle's, shawn's, cola, wrap's, cream, splices, bane's, wade, spades, mark's, cranky, maxim's, marbles, racier, slam's, marshal's, writs, nannies, lint's, gallery, hard, dinner, baal's, sling, parley, wager's, lam's, plaints, blast, dix, strap's, toaster, djinni's, stilled, vamping, frat, strap, bridget's, staten, shines, shifting, pained, stalking's, vang, carry, normand's, bad, medan's, midst's, meagan, grated, sedan's, gila's, abate, bark's, lowing, lief, flat, capes, bay's, flash's, chart's, chatters, viola's, vague, rodin's, thick's, maze, pocking, sidle's, galls, marisa, tiger, emily's, niter's, fears, apache, sales, dados, thawing, mariana's, brawl, staple, spears, tasted, planet's, sarah's, scalds, baas, nite, rabin's, stink's, medians, sails, dosage's, lid's, yale, limn, flashest, wean, stall's, rwandas, minx, harley, flair, britt's, slashed, drafted, hires, halley's, gloat, blinked, arms, waiters, storming, gaming, waft, line's, swashes, dram's, maude, sated, coached, faust's, maze's, bloated, hardly, law's, cantos, solid's, morales, dinned, grainy, tim's, spiked, pied, gapes, trackers, shag, braced, strike's, swan's, stringers, main, battled, ag's, train's, sufi, acne, fat's, champs, jinn's, trash's, crowning, damon's, adar, leafy, salver, catty, seaward's, britt, lars, argon, sally, dwayne's, drags, awards, fabled, basil, waxy, hashes, maw's, bangs, plan, bawled, maine, choral, rains, gabble's, climbs, jame, thaws, cato's, rulings, gable, adds, sad, howard, paint, gales, scamp's, stair's, lamed, bald, tables, grand, steams, farce, sip's, marva, gang, grave, swank, mkay, tilted, wadded, valets, recap, marc's, supine, arches, scrap, tara's, tigers, alpine's, bale, slap's, maris, auk, calm's, fit's, splatter, daley, shin, sticky's, graders, rap, binged, caress, facets, aline's, latin's, crater's, slaw's, daisy, slid, day's, waring's, ship's, tamper, biases, margin, kline's, suite, daemon, ni, walled, writ, slab's, gashes, caroled, canines, anna's, paley's, ion's, shit's, arab, claim's, mantis, stocking, sluice's, sprint's, pant's, vans, osage, laos's, spiking, camps, clip, walsh, carved, pawl, treats, pinks, brushing, die's, stalk's, agate, hind, tikes, cape's, marker, brawl's, largos, pie, lanai, camry's, width, roman, lids, linden, addams's, dalai, toasted, lola's, small, naples, sink's, croat, heady, dish, plains, stringer's, raider, kaye's, moat's, marta's, mario's, nina's, sitting's, mat's, cantors, rape's, maoist, hit, twists, swats, leakey, gabled, anteed, thrashes, wrapt, hindus, joanne, begat, mince's, max, dickeys, gape's, fridge, brawn's, wales, mayas, tripped, nit's, waring, pier's, grad, hived, palms, rambled, gall's, platen's, lear's, omar's, arcked, ashes, brass's, pedalled, can's, spiel's, waged, sawyer's, sagas, hague's, dies, gasps, fairs, dadoes, mads, cast, march, deprives, can't, relapses, sand's, easts, acid, salsas, pas, rind, spiels, madman, wand, disks, gamy, caches, page's, cants, clears, tries, stalked, antic's, moires, fist's, platens, twinned, king, wit, spireas, hasp, waiter, valet's, roared, bridger, rio's, lelia's, yam's, aswan's, whim's, champed, lang, parser, sweat's, smalls, iraq, carted, cane's, milf's, ing, mi's, martyr's, stirs, boat, skate, manila, slater, mit's, tracked, spanks, musing's, dimmer, brawled, limbs, cora's, koran, warty, gina's, olga, stays, paige's, collin's, pall's, czar, solid, marc, nile, craved, marat, karla's, restated, evan's, pact's, adan's, graver, chair, stinks, argot, hal, scald, piers, shack, brad, vat's, rapes, walked, dearth, lays, raga, art's, bawl, prigs, galen's, pintos, poking, lash's, oscar, maria's, likest, cohan's, stuarts, grail's, blare's, salsa's, bathed, sticks, leak's, arabs, shingled, draping, mist's, parka, crazes, mar's, pliers, tamping, dirges, margins, ezra's, cane, irma's, stilt's, piecing, slither, lisps, florae, lashes, created, baths, strains, ito's, tints, glances, sedans, plaint, nola's, plane, whip, ats, ramp, drive, yoking, aliened, hire, hayes's, feasted, side, alloys, chink's, shrine's, sale's, glands, tin, lass's, jean's, gamine's, wales's, lamer, limns, kinks, hide's, al's, baits, tinny, sip, skirt, shift's, saran's, wanted, maris's, sheath, miter, damp's, say, slither's, ideals, dannie, dixon, cash's, bind's, pastiest, gates's, flambes, barked, oral, carole, bach, marne's, boat's, flip, hera, moister, alleys, sawyers, pan, mit, times, cohan, spaced, lilacs, doming, elites, basses, misty, began, finery, sway, peary, brian, earline's, daemon's, lathe, carlos's, helena, korean, gravies, kids, pings, gland, lao's, spines, opining, nacre, lid, singed, pare, sowing, sheaths, pages, rants, paced, shiners, deana's, pickier, mewling, ban's, organs, growling, piped, washed, redid, yeasty, leann's, marius, mile's, agog, dimmers, lard, tiaras, orbit, lammed, toying, ifs, lancer's, seward, harte, snags, mayra, vito, pact, stabled, okay, rake's, flints, karma's, whaler's, swinger, barry, china, stalled, spate's, mare's, oaths, argosy, scream, garry's, place's, paula's, erasers, kin, oman's, swain's, argue, mir's, balded, again, shticks, match, ivan's, graters, chaster, beasts, thales, galen, maratha's, wad, smash, crabs, ola, at, palm's, park's, loins, falls, nab, mangy, fiats, rider, midst, james, janine, raggedy, swathes, spine's, spear's, balked, archery's, park, pairs, tiled, serra, carr, david's, ira, blab's, frat's, slate, maxima, glittery, speared, cages, joanna's, shawl's, maizes, ins, flicked, abler, sprint, crank's, waft's, valley, clara's, prawn, sis's, grady's, minced, crane's, ila, flails, planes, plated, tracker's, whiners, carly, franco's, healthy, gaines, rages, draw's, han's, eli, sargon, pink's, drying, malice, badger, wall's, witt, halls, grates, pickers, batches, plath's, dig, ridged, parses, ymir's, maxes, abridged, baron, fart's, slanting, lathe's, astray, last's, islander's, orals, stowing, mowing, magneto's, diet's, whitest, its, pious, splice's, cranked, faints, split, orbit's, ganged, fora, espies, shine, bidets, sweat, lelia, scrapers, slink, sprat's, glass's, opined, abashes, goal's, barber, pass, sauna, parsley's, friend, selena's, feast's, milne, wails, slag, magic, linens, waled, rake, remits, crash's, siam's, pining, arc, sited, clint, lime's, prawns, class, batu's, vomit, paul's, harlem's, astir, leak, what's, larva's, witt's, tying, fakir's, fans, pastels, shaded, sander, feast, as, faye, flied, tam's, disk's, abroad, xmas, sepal, si, miles, fade's, walesa, mall's, trowelling, fiend, tate, ally, kind, martin's, tie's, wantons, carolled, cheater's, unity's, bring, clara, kite, brag's, lanka's, flank, steal, margie's, swains, croat's, mani's, timer, grades, broads, leafs, lien's, lap's, prawning, spice's, statuses, magneto, ag, climb's, mile, na's, anne, wands, dearths, davis's, pares, flame, rated, miner's, swarms, speaking, swim, spats, direr, faced, lark's, macadam's, martin, pile's, raps, lela, spies, names, shawna, prayer's, brandied, jana's, graft's, glints, diets, tile's, spilling, testates, musing, bract's, splay's, skater, marne, slags, minuted, leona, slammed, pies, drain's, winged, diane, moire, slam, ding's, claire, erma, aced, stampede's, sharked, stables, jay's, it, trilled, gallons, theater, oink's, gary, siting, rand, prius, halos, jamb's, primes, moira, barf's, sandy, ringo's, awe's, die, aides, raft, nine's, japing, gnat's, cabin's, halley, skating, drakes, martha's, gaily, ream's, canton's, manias, spied, carves, anita, sniper's, bid's, cat's, sand, hangs, zit's, aunt's, awl's, arline's, baby's, wham's, craps, tiger's, finis, beard's, wits's, ax, prate, sanders's, tires, splatters, megan's, franck, carve, sargon's, mattel, smiled, tokay, pins, sivan's, basso, razzed, canoe's, sin's, hash, rank, pasts, lie, life, cashes, dames, carol, ahead, basal, glitter, anion's, slewing, scampers, mace's, rags, pimp's, tax's, lacey's, mark, part's, shad's, awarded, slithers, mite's, preachers, stewards, muir, thank, ninja, whine, dread's, carry's, breach, way, clapped, carols, clam's, dvina's, drawl's, tried, treat, asps, romany's, harte's, makes, sphinx, fable's, rainy, sheathe, cali's, pinked, pease, mated, blanks, maoists, tag's, abash, blisters, olin, fauna, stalkings, sag's, diana, beats, ikon, halsey, inky, fate, hawk's, hands, lard's, gads, fades, thick, steward, ghats, bushings, hahn, osman, bay, valley's, singe's, lasso's, opine, age, pealed, halve, salvers, scaled, pip, alec, wriest, zara's, dais's, alec's, lither, rae, warning's, rind's, scans, brake, mask, clarke's, miters, tina, rearm, float, sick, brando, sage's, kinda, dreamy, neil's, papa's, icons, titled, heater, rail, fats, awning's, bans, racked, marisa's, gnash, blare, ca's, osman's, moist, sashays, mia, sail, chip's, stine, wrist's, lady's, bushing, cast's, fainer, lei's, abide, many, batted, marcia, kmart, argots, james's, pi's, fauns, writers, canyon, wheal's, baa's, sharped, damson, driver's, unfit, orbits, parches, lin's, emily, palmier, land, gravels, clare's, oscar's, ian's, pastries, jinns, marsha's, timers, yeast's, canon, grin's, chic, i, swatches, mayan's, crap's, pilling, ache, snips, chanted, sakai's, stick, slims, can, rakes, wan, hannah's, ragas, fables, lamb's, tramp's, davy, halted, spray's, finnish, maple's, fracked, relates, hate, lifers, johann, cid, brains, discusses, teamed, ayers, macadam, tad's, chick's, tamera's, haunt, okay's, grater's, annam's, spawning, whimsey, tampa, abridge, gland's, writer, gavel's, khan, gringo, elapses, clacked, capra, scared, mares, harts, strand's, chary, neil, ashtray, carat's, splashy, sack, pleat's, tasters, hailed, statue's, fairy, oats's, stringy, wined, veal's, cobra, steam, mantilla, ranged, gages, chanteys, cashed, swarming, latinos, craw's, startled, parley's, nails, waists, maid, ramp's, mint, hays, tamara, claw, brink, pain, rowling, grace's, jayne, arcs, hauler, find's, fines, dooming, wards, ideal's, staples's, arched, doling, age's, marat's, mates, pay's, pastas, hart's, slander, randi, mayra's, carpi, what, irons, goat, swifts, asians, usable, chided, days, spade, slays, haw's, strikers, rashers, wham, eliza's, clad, slabs, wanda, lines, sides, delhi, skies, divert, bali's, rabin, parrish, hairlines, mattie's, bauds, raspy, lieu's, ask, clatters, nsa's, arch's, snail, flits, slick, stay's, bridle's, flashes, feared, minsk, wrapping's, slicer, glade, barfed, warned, franz, basie's, lamas, grids, rink, rasp's, barker, fax, mayor's, chart, glowing, ines, whist's, palpates, dinghy, beast, bashed, lams, sean, pane's, ishim, shag's, ara, blithe, stair, crapped, vilma's, bridgett, ticks, task, lip, cant's, gonad, pekings, mists, sierras, riots, crashes, load, dice, relapse, hines, hawking, crag's, limped, player's, spited, stapler, race, platters, pitts's, teat's, pinging, tiny, weans, peat's, driver, awning, tamps, aided, jinni, stinger's, kiddy, rwandan's, pike's, fact, wince's, has, stamp, barnes, splice, reared, pedals, orval, yawl, spikes, cramp's, olaf's, magog, thaw's, clash, deana, clamp, piling, fan, tablet, patel's, palsy, blinks, bats, birdied, dinner's, san, manger's, juan, deanna's, swank's, starts, clashes, cagey, table, tamer's, spain's, rambler, barks, statutes, stashes, tran's, wand's, divans, shied, ebay, acre, strikes, salve's, lifer's, pants, lassa, mayo, dale's, cheats, arena's, raids, auras, waxes, litters, finder, bide, ing's, hims, oking, lambs, basks, arena, bard, snowing, spinning, pipped, stripe's, campus, glint, sewing, axle, toad, witch, hiker, sparkled, deicers, twines, ira's, warder, wall, millers, lorna, maws, space's, minx's, matters, scamp, six's, shame's, marble, halters, clangs, agra's, ideas, spirea, odis, bleary, dotting, tracy, pinky's, faun's, bola, gasp, unity, lancet's, sign, ci's, marie, mariner, mai's, awls, larks, scats, "
          ]
        }
      ],
      "source": [
        "for word in word_set:\n",
        "  if reducible_words(word_set, word, reducible_word_set):\n",
        "    print(word, end=', ')"
      ]
    },
    {
      "cell_type": "code",
      "execution_count": 28,
      "id": "17ffca66",
      "metadata": {
        "id": "17ffca66",
        "outputId": "f0d5b4d2-f5c6-46c5-8541-831001123759",
        "colab": {
          "base_uri": "https://localhost:8080/"
        }
      },
      "outputs": [
        {
          "output_type": "stream",
          "name": "stdout",
          "text": [
            "bridgette's\n"
          ]
        }
      ],
      "source": [
        "print(max(reducible_word_set, key=len))"
      ]
    },
    {
      "cell_type": "code",
      "execution_count": null,
      "id": "142591b4",
      "metadata": {
        "tags": [],
        "id": "142591b4"
      },
      "outputs": [],
      "source": []
    },
    {
      "cell_type": "code",
      "execution_count": null,
      "id": "b0764433",
      "metadata": {
        "tags": [],
        "id": "b0764433"
      },
      "outputs": [],
      "source": []
    },
    {
      "cell_type": "code",
      "execution_count": null,
      "id": "af0a7034",
      "metadata": {
        "tags": [],
        "id": "af0a7034"
      },
      "outputs": [],
      "source": []
    },
    {
      "cell_type": "code",
      "execution_count": null,
      "id": "234ac5fa",
      "metadata": {
        "tags": [],
        "id": "234ac5fa"
      },
      "outputs": [],
      "source": []
    },
    {
      "cell_type": "code",
      "execution_count": null,
      "id": "aac76078",
      "metadata": {
        "tags": [],
        "id": "aac76078"
      },
      "outputs": [],
      "source": []
    },
    {
      "cell_type": "code",
      "execution_count": null,
      "id": "1186d411",
      "metadata": {
        "id": "1186d411"
      },
      "outputs": [],
      "source": []
    },
    {
      "cell_type": "markdown",
      "id": "28320e58",
      "metadata": {
        "id": "28320e58"
      },
      "source": [
        "*Data Structures and Information Retrieval in Python*\n",
        "\n",
        "Copyright 2021 Allen Downey\n",
        "\n",
        "License: [Creative Commons Attribution-NonCommercial-ShareAlike 4.0 International](https://creativecommons.org/licenses/by-nc-sa/4.0/)"
      ]
    }
  ],
  "metadata": {
    "celltoolbar": "Tags",
    "kernelspec": {
      "display_name": "Python 3 (ipykernel)",
      "language": "python",
      "name": "python3"
    },
    "language_info": {
      "codemirror_mode": {
        "name": "ipython",
        "version": 3
      },
      "file_extension": ".py",
      "mimetype": "text/x-python",
      "name": "python",
      "nbconvert_exporter": "python",
      "pygments_lexer": "ipython3",
      "version": "3.10.1"
    },
    "colab": {
      "provenance": []
    }
  },
  "nbformat": 4,
  "nbformat_minor": 5
}